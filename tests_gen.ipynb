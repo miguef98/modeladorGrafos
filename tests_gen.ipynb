{
 "cells": [
  {
   "cell_type": "markdown",
   "metadata": {},
   "source": [
    "## Tests visuales para generador de mallas"
   ]
  },
  {
   "cell_type": "markdown",
   "metadata": {},
   "source": [
    "Setup:"
   ]
  },
  {
   "cell_type": "code",
   "execution_count": 1,
   "metadata": {},
   "outputs": [],
   "source": [
    "import numpy as np\n",
    "import meshplot as mp\n",
    "import networkx as nx\n",
    "from vec3 import Vec3\n",
    "from modelador import GrafoCentros"
   ]
  },
  {
   "cell_type": "code",
   "execution_count": 2,
   "metadata": {},
   "outputs": [],
   "source": [
    "shading = { 'width': 500, 'height': 400, 'bbox':True, 'point_size': 1 }"
   ]
  },
  {
   "cell_type": "code",
   "execution_count": 3,
   "metadata": {},
   "outputs": [],
   "source": [
    "def prepararAristas( grafo ):\n",
    "    for arista in grafo.edges():\n",
    "        nx.set_edge_attributes( grafo, {arista : {'procesada':False}})"
   ]
  },
  {
   "cell_type": "markdown",
   "metadata": {},
   "source": [
    "# Test 1: Grafo Arbol sin bifurcaciones"
   ]
  },
  {
   "cell_type": "code",
   "execution_count": 5,
   "metadata": {},
   "outputs": [
    {
     "name": "stderr",
     "output_type": "stream",
     "text": [
      "/home/migue/miniconda3/envs/graficos/lib/python3.10/site-packages/jupyter_client/session.py:718: UserWarning: Message serialization failed with:\n",
      "Out of range float values are not JSON compliant\n",
      "Supporting this message is deprecated in jupyter-client 7, please make sure your message is JSON-compliant\n",
      "  content = self.pack(content)\n"
     ]
    },
    {
     "data": {
      "application/vnd.jupyter.widget-view+json": {
       "model_id": "221d40122e89416ba5d8422c6893066b",
       "version_major": 2,
       "version_minor": 0
      },
      "text/plain": [
       "Renderer(camera=PerspectiveCamera(aspect=1.25, children=(DirectionalLight(color='white', intensity=0.6, positi…"
      ]
     },
     "metadata": {},
     "output_type": "display_data"
    },
    {
     "name": "stdout",
     "output_type": "stream",
     "text": [
      "Invalid color array given! Supported are numpy arrays. <class 'numpy.ndarray'>\n"
     ]
    },
    {
     "data": {
      "text/plain": [
       "1"
      ]
     },
     "execution_count": 5,
     "metadata": {},
     "output_type": "execute_result"
    }
   ],
   "source": [
    "G = nx.Graph()\n",
    "G.add_nodes_from( [(0, {'posicion': Vec3(0,0,0), 'radio': .7}), (1, {'posicion': Vec3(1,0,0), 'radio': .75}), (2, {'posicion': Vec3(2,0,0), 'radio': .8}) ] )\n",
    "G.add_edges_from( [(0,1), (1,2)])\n",
    "prepararAristas( G )\n",
    "\n",
    "GC = GrafoCentros( G )\n",
    "GC.tile()\n",
    "\n",
    "p = mp.plot( GC.mesh.getVertices(), GC.mesh.getCaras(), c=np.array([0.7, 0.0, 0.0]), shading=shading, return_plot=True)\n",
    "p.add_points( GC.mesh.getVertices(), c=np.array([0.7, 0.0, 0.0]), shading=shading)"
   ]
  },
  {
   "cell_type": "markdown",
   "metadata": {},
   "source": [
    "# Test 2: Ramas forward"
   ]
  },
  {
   "cell_type": "code",
   "execution_count": null,
   "metadata": {},
   "outputs": [],
   "source": [
    "def crearRaizUnaRama( segmento ):\n",
    "    branch1 = Nodo( seg = segmentoTest1[3:], radio=radioRandom(segmentoTest1[3:]) )\n",
    "    branch2 = Nodo( seg = segmento, radio=[ 0.1 for _ in range(len(segmento)) ])\n",
    "    raiz = Nodo( hijos= [ branch1, branch2 ], seg=segmentoTest1[:3], radio=radioRandom(segmentoTest1[:3]))\n",
    "    branch2.padre, branch1.padre = raiz, raiz\n",
    "\n",
    "    return raiz"
   ]
  },
  {
   "cell_type": "markdown",
   "metadata": {},
   "source": [
    "Cuadrante 0:"
   ]
  },
  {
   "cell_type": "code",
   "execution_count": null,
   "metadata": {},
   "outputs": [],
   "source": [
    "arbol._raiz = crearRaizUnaRama( segmentoTest2 )\n",
    "arbol.tile( test=True )\n",
    "v = arbol.getVertices()\n",
    "p = mp.plot( v , arbol.getCaras(), c=np.array([0.7, 0.0, 0.0]), shading=shading, return_plot=True)\n",
    "p.add_points( np.array([ v[i] for i in range(0, len(v), 4)]), shading={ 'point_size':0.1} )"
   ]
  },
  {
   "cell_type": "markdown",
   "metadata": {},
   "source": [
    "Cuadrante 1:"
   ]
  },
  {
   "cell_type": "code",
   "execution_count": null,
   "metadata": {},
   "outputs": [],
   "source": [
    "arbol._raiz = crearRaizUnaRama( segmentoTest3 )\n",
    "arbol.tile( test=True )\n",
    "v = arbol.getVertices()\n",
    "p = mp.plot( v , arbol.getCaras(), c=np.array([0.7, 0.0, 0.0]), shading=shading, return_plot=True)\n",
    "p.add_points( np.array([ v[i] for i in range(0, len(v), 4)]), shading={ 'point_size':0.1} )"
   ]
  },
  {
   "cell_type": "markdown",
   "metadata": {},
   "source": [
    "Cuadrante 2:"
   ]
  },
  {
   "cell_type": "code",
   "execution_count": null,
   "metadata": {},
   "outputs": [],
   "source": [
    "arbol._raiz = crearRaizUnaRama( segmentoTest4 )\n",
    "arbol.tile( test=True )\n",
    "v = arbol.getVertices()\n",
    "p = mp.plot( v , arbol.getCaras(), c=np.array([0.7, 0.0, 0.0]), shading=shading, return_plot=True)\n",
    "p.add_points( np.array([ v[i] for i in range(0, len(v), 4)]), shading={ 'point_size':0.1} )"
   ]
  },
  {
   "cell_type": "markdown",
   "metadata": {},
   "source": [
    "Cuadrante 3:"
   ]
  },
  {
   "cell_type": "code",
   "execution_count": null,
   "metadata": {},
   "outputs": [],
   "source": [
    "arbol._raiz = crearRaizUnaRama( segmentoTest5 )\n",
    "arbol.tile( test=True )\n",
    "v = arbol.getVertices()\n",
    "p = mp.plot( v , arbol.getCaras(), c=np.array([0.7, 0.0, 0.0]), shading=shading, return_plot=True)\n",
    "p.add_points( np.array([ v[i] for i in range(0, len(v), 4)]), shading={ 'point_size':0.1} )"
   ]
  },
  {
   "cell_type": "markdown",
   "metadata": {},
   "source": [
    "# Test 3: Ramas backwards"
   ]
  },
  {
   "cell_type": "markdown",
   "metadata": {},
   "source": [
    "Cuadrante 0:"
   ]
  },
  {
   "cell_type": "code",
   "execution_count": null,
   "metadata": {},
   "outputs": [],
   "source": [
    "arbol._raiz = crearRaizUnaRama( segmentoTest6 )\n",
    "arbol.tile( test=True )\n",
    "v = arbol.getVertices()\n",
    "p = mp.plot( v , arbol.getCaras(), c=np.array([0.7, 0.0, 0.0]), shading=shading, return_plot=True)\n",
    "p.add_points( np.array([ v[i] for i in range(0, len(v), 4)]), shading={ 'point_size':0.1} )"
   ]
  },
  {
   "cell_type": "markdown",
   "metadata": {},
   "source": [
    "Cuadrante 1:"
   ]
  },
  {
   "cell_type": "code",
   "execution_count": null,
   "metadata": {},
   "outputs": [],
   "source": [
    "arbol._raiz = crearRaizUnaRama( segmentoTest7 )\n",
    "arbol.tile( test=True )\n",
    "v = arbol.getVertices()\n",
    "p = mp.plot( v , arbol.getCaras(), c=np.array([0.7, 0.0, 0.0]), shading=shading, return_plot=True)\n",
    "p.add_points( np.array([ v[i] for i in range(0, len(v), 4)]), shading={ 'point_size':0.1} )"
   ]
  },
  {
   "cell_type": "markdown",
   "metadata": {},
   "source": [
    "Cuadrante 2:"
   ]
  },
  {
   "cell_type": "code",
   "execution_count": null,
   "metadata": {},
   "outputs": [],
   "source": [
    "arbol._raiz = crearRaizUnaRama( segmentoTest8 )\n",
    "arbol.tile( test=True )\n",
    "v = arbol.getVertices()\n",
    "p = mp.plot( v , arbol.getCaras(), c=np.array([0.7, 0.0, 0.0]), shading=shading, return_plot=True)\n",
    "p.add_points( np.array([ v[i] for i in range(0, len(v), 4)]), shading={ 'point_size':0.1} )"
   ]
  },
  {
   "cell_type": "markdown",
   "metadata": {},
   "source": [
    "Cuadrante 3:"
   ]
  },
  {
   "cell_type": "code",
   "execution_count": null,
   "metadata": {},
   "outputs": [],
   "source": [
    "arbol._raiz = crearRaizUnaRama( segmentoTest9 )\n",
    "arbol.tile( test=True )\n",
    "v = arbol.getVertices()\n",
    "p = mp.plot( v , arbol.getCaras(), c=np.array([0.7, 0.0, 0.0]), shading=shading, return_plot=True)\n",
    "p.add_points( np.array([ v[i] for i in range(0, len(v), 4)]), shading={ 'point_size':0.1} )"
   ]
  },
  {
   "cell_type": "code",
   "execution_count": null,
   "metadata": {},
   "outputs": [],
   "source": [
    "branch1 = Nodo( seg = [ [0.0, 0.05, 0.03], [0.2, 0.05, 0.03], [0.4, 0.05, 0.03] ], radio=[0.015, 0.015, 0.015] )\n",
    "branch2 = Nodo( seg = [ [0.1, -0.1, -0.02], [0.11, -0.2, -0.02], [0.12, -0.3, -0.02] ], radio=[0.03, 0.03, 0.03] )\n",
    "branch3 = Nodo( seg = [ [0.22, 0.0, 0.0], [0.42, 0.0, 0.0], [0.62, 0.0, 0.0] ], radio=[0.015, 0.015, 0.015] )\n",
    "raiz = Nodo( sig= [ branch1, branch2, branch3 ], seg=[ [ -0.4, 0.0, 0.0], [-0.2, 0.0, 0.0] ], radio=[0.03, 0.03])\n",
    "branch2.ant, branch1.ant, branch3.ant = raiz, raiz, raiz\n",
    "\n",
    "arbol._raiz = raiz\n",
    "arbol.tile( test=True )\n",
    "v = arbol.getVertices()\n",
    "f = arbol.getCaras()\n"
   ]
  },
  {
   "cell_type": "code",
   "execution_count": null,
   "metadata": {},
   "outputs": [],
   "source": [
    "\n",
    "p = mp.plot( v , f[:] , c=np.array([0.7, 0.0, 0.0]), shading=shading, return_plot=True)\n",
    "p.add_points( np.array([ v[i] for i in range(0, len(v), 4)]), shading={ 'shading':'flat', 'point_size':0.1} )"
   ]
  },
  {
   "cell_type": "code",
   "execution_count": null,
   "metadata": {},
   "outputs": [],
   "source": [
    "from vec3 import Vec3\n",
    "\n",
    "np.sum( [Vec3(1.0, 0.0, 0.0), Vec3(0.0, 1.0, 0.0), Vec3(0.0, 0.0, 1.0) ] ) / 4"
   ]
  }
 ],
 "metadata": {
  "interpreter": {
   "hash": "eb39dedddd96e042909f6d2defbd179a23d2732cde05673458392b8d1ef182a1"
  },
  "kernelspec": {
   "display_name": "Python 3.10.4 ('graficos')",
   "language": "python",
   "name": "python3"
  },
  "language_info": {
   "codemirror_mode": {
    "name": "ipython",
    "version": 3
   },
   "file_extension": ".py",
   "mimetype": "text/x-python",
   "name": "python",
   "nbconvert_exporter": "python",
   "pygments_lexer": "ipython3",
   "version": "3.10.4"
  }
 },
 "nbformat": 4,
 "nbformat_minor": 2
}
