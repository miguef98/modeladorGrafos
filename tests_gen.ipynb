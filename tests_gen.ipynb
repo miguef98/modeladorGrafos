{
 "cells": [
  {
   "cell_type": "markdown",
   "metadata": {},
   "source": [
    "## Tests visuales para generador de mallas"
   ]
  },
  {
   "cell_type": "markdown",
   "metadata": {},
   "source": [
    "Setup:"
   ]
  },
  {
   "cell_type": "code",
   "execution_count": 1,
   "metadata": {},
   "outputs": [],
   "source": [
    "import numpy as np\n",
    "import meshplot as mp\n",
    "import networkx as nx\n",
    "\n",
    "from src.mesh_gen.vec3 import Vec3\n",
    "from src.mesh_gen.modelador import GrafoCentros"
   ]
  },
  {
   "cell_type": "code",
   "execution_count": 2,
   "metadata": {},
   "outputs": [],
   "source": [
    "shading = { 'width': 500, 'height': 400, 'bbox':True, 'point_size': 1,\"side\": \"DoubleSide\" }"
   ]
  },
  {
   "cell_type": "code",
   "execution_count": 3,
   "metadata": {},
   "outputs": [],
   "source": [
    "def generarGrafo( listaPosiciones, listaRadios, listaAristas ):\n",
    "    G = nx.Graph()\n",
    "    G.add_nodes_from( [(idx, {'posicion': Vec3(*pos), 'radio': radio} ) for idx, (pos, radio) in enumerate(zip(listaPosiciones, listaRadios)) ] )\n",
    "    G.add_edges_from( listaAristas )\n",
    "    prepararAristas(G)\n",
    "    return G\n",
    "\n",
    "def prepararAristas( grafo ):\n",
    "    for arista in grafo.edges():\n",
    "        nx.set_edge_attributes( grafo, {arista : {'procesada':False}})"
   ]
  },
  {
   "cell_type": "markdown",
   "metadata": {},
   "source": [
    "# Test 1: Grafo Arbol sin bifurcaciones"
   ]
  },
  {
   "cell_type": "code",
   "execution_count": 4,
   "metadata": {},
   "outputs": [
    {
     "name": "stderr",
     "output_type": "stream",
     "text": [
      "/home/migue/miniconda3/envs/graficos/lib/python3.10/site-packages/jupyter_client/session.py:718: UserWarning: Message serialization failed with:\n",
      "Out of range float values are not JSON compliant\n",
      "Supporting this message is deprecated in jupyter-client 7, please make sure your message is JSON-compliant\n",
      "  content = self.pack(content)\n"
     ]
    },
    {
     "data": {
      "application/vnd.jupyter.widget-view+json": {
       "model_id": "78aa5bd4049f4baea11fef39c5291704",
       "version_major": 2,
       "version_minor": 0
      },
      "text/plain": [
       "Renderer(camera=PerspectiveCamera(aspect=1.25, children=(DirectionalLight(color='white', intensity=0.6, positi…"
      ]
     },
     "metadata": {},
     "output_type": "display_data"
    },
    {
     "data": {
      "text/plain": [
       "1"
      ]
     },
     "execution_count": 4,
     "metadata": {},
     "output_type": "execute_result"
    }
   ],
   "source": [
    "G = generarGrafo( [ [0,0,0], [0,1,0], [0,2,0]], [0.7, 0.75, 0.8], [(0,1), (1,2)])\n",
    "GC = GrafoCentros( G )\n",
    "GC.tile()\n",
    "\n",
    "p = mp.plot( GC.getVertices(), GC.getCaras(), shading=shading, return_plot=True)\n",
    "p.add_points( GC.getVertices(), shading=shading)"
   ]
  },
  {
   "cell_type": "code",
   "execution_count": 8,
   "metadata": {},
   "outputs": [
    {
     "data": {
      "application/vnd.jupyter.widget-view+json": {
       "model_id": "41098eb3686c4c69b56ca25001bbd368",
       "version_major": 2,
       "version_minor": 0
      },
      "text/plain": [
       "Renderer(camera=PerspectiveCamera(aspect=1.25, children=(DirectionalLight(color='white', intensity=0.6, positi…"
      ]
     },
     "metadata": {},
     "output_type": "display_data"
    }
   ],
   "source": [
    "GC.subdivide(2)\n",
    "\n",
    "p = mp.plot( GC.getVertices(), GC.getCaras(), shading=shading, return_plot=True)\n",
    "#p.add_points( GC.getVertices(), shading=shading)"
   ]
  },
  {
   "cell_type": "code",
   "execution_count": 9,
   "metadata": {},
   "outputs": [],
   "source": [
    "GC.exportar( \"test1.off\" )"
   ]
  },
  {
   "cell_type": "markdown",
   "metadata": {},
   "source": [
    "# Test 2: Ramas forward"
   ]
  },
  {
   "cell_type": "code",
   "execution_count": null,
   "metadata": {},
   "outputs": [],
   "source": [
    "G = generarGrafo( [ [0,0,0], [1,0,0], [2,0,0], [3, 1, 0], [3, -1, 0], [3.8, 1.8, 0], [3.8, -1.8, 0]], [0.7, 0.75, 0.8, .7, .7, .7, .7], [(0,1), (1,2), (2,3), (2,4), (3,5), (4,6)])\n",
    "GC = GrafoCentros( G )\n",
    "GC.tile()"
   ]
  },
  {
   "cell_type": "code",
   "execution_count": null,
   "metadata": {},
   "outputs": [],
   "source": [
    "p = mp.plot( GC.getVertices(), GC.getCaras(), c=np.array([0.7, 0.0, 0.0]), shading=shading, return_plot=True)\n",
    "p.add_points( GC.getVertices(), shading=shading)\n",
    "\n",
    "ps = np.array( [[3.737918455040828, -0.694344167996688, 0.5848511486459786], [3.6186950374218663, 0.38130496257813384, 0.46306900278372287], [2.0, -1.0596033904859739, 0.3965358178911831], [2.459667994200264, -1.2238128449865084, 0.798717180188006]] )\n",
    "\n",
    "p.add_points( ps[:], c=np.tile([0,0,1], (4,1)), shading=shading)"
   ]
  },
  {
   "cell_type": "code",
   "execution_count": null,
   "metadata": {},
   "outputs": [],
   "source": [
    "np.tile( [0,1,2], (4,1))"
   ]
  },
  {
   "cell_type": "code",
   "execution_count": null,
   "metadata": {},
   "outputs": [],
   "source": [
    "GC.subdivide(2)\n",
    "p = mp.plot( GC.getVertices(), GC.getCaras(), c=np.array([0.7, 0.0, 0.0]), shading=shading, return_plot=True)\n",
    "p.add_points( GC.getVertices(), shading=shading)"
   ]
  },
  {
   "cell_type": "markdown",
   "metadata": {},
   "source": [
    "# Test 3: Ramas Backwards"
   ]
  },
  {
   "cell_type": "code",
   "execution_count": null,
   "metadata": {},
   "outputs": [],
   "source": [
    "G = generarGrafo( [ [0,0,0], [1,0,0], [2,0,0], [1, 2, 0], [1, -2, 0], [0, 3, 0], [0, -3, 0]], [0.7, 0.75, 0.8, .7, .7, .7, .7], [(0,1), (1,2), (2,3), (2,4), (3,5), (4,6)])\n",
    "GC = GrafoCentros( G )\n",
    "GC.tile()\n",
    "\n",
    "p = mp.plot( GC.getVertices(), GC.getCaras(), c=np.array([0.7, 0.0, 0.0]), shading=shading, return_plot=True)\n",
    "p.add_points( GC.getVertices(), shading=shading)"
   ]
  },
  {
   "cell_type": "code",
   "execution_count": null,
   "metadata": {},
   "outputs": [],
   "source": [
    "GC.subdivide()\n",
    "p = mp.plot( GC.getVertices(), GC.getCaras(), c=np.array([0.7, 0.0, 0.0]), shading=shading, return_plot=True)\n",
    "p.add_points( GC.getVertices(), shading=shading)"
   ]
  },
  {
   "cell_type": "markdown",
   "metadata": {},
   "source": [
    "## Test 4: Ramas backwards y ramas forward"
   ]
  },
  {
   "cell_type": "code",
   "execution_count": null,
   "metadata": {},
   "outputs": [],
   "source": [
    "G = generarGrafo( [ [0,0,0], [1,0,0], [2,0,0], [1, 2, 0], [1, -2, 0], [0, 3, 0], [0, -3, 0], [3, 1, 0], [3, -1, 0], [3.8, 1.8, 0], [3.8, -1.8, 0]],\n",
    "                  [0.7, 0.75, 0.8, .7, .7, .7, .7, .7, .7, .7, .7], \n",
    "                  [(0,1), (1,2), (2,3), (2,4), (3,5), (4,6), (2,7), (2,8), (7,9), (8, 10)])\n",
    "GC = GrafoCentros( G )\n",
    "GC.tile()\n",
    "\n",
    "p = mp.plot( GC.getVertices(), GC.getCaras(), c=np.array([0.7, 0.0, 0.0]), shading=shading, return_plot=True)\n",
    "p.add_points( GC.getVertices(), shading=shading)"
   ]
  },
  {
   "cell_type": "code",
   "execution_count": null,
   "metadata": {},
   "outputs": [],
   "source": [
    "GC.subdivide()\n",
    "p = mp.plot( GC.getVertices(), GC.getCaras(), c=np.array([0.7, 0.0, 0.0]), shading=shading, return_plot=True)\n",
    "p.add_points( GC.getVertices(), shading=shading)"
   ]
  },
  {
   "cell_type": "markdown",
   "metadata": {},
   "source": [
    "# Test 5: Dos ramas forward del mismo cuadrante"
   ]
  },
  {
   "cell_type": "code",
   "execution_count": null,
   "metadata": {},
   "outputs": [],
   "source": [
    "G = generarGrafo( [ [0,0,0], [1,0,0], [2,0,0], [3, 1, 0], [3.8, 1.8, 0], [4,0,-.7], [4.5, 0, -1.5] , [4,0,.7], [4.5, 0, 1.5]],\n",
    "                  [0.7, 0.75, 0.8, .7, .7, .2, .2, .2, .2], \n",
    "                  [(0,1), (1,2), (2,3), (3,4), (2,5), (5,6), (2,7), (7,8)])\n",
    "GC = GrafoCentros( G )\n",
    "GC.tile()\n",
    "\n",
    "p = mp.plot( GC.getVertices(), GC.getCaras(), c=np.array([0.7, 0.0, 0.0]), shading=shading, return_plot=True)\n",
    "p.add_points( GC.getVertices(), shading=shading)"
   ]
  },
  {
   "cell_type": "code",
   "execution_count": null,
   "metadata": {},
   "outputs": [],
   "source": [
    "GC.subdivide()\n",
    "p = mp.plot( GC.getVertices(), GC.getCaras(), c=np.array([0.7, 0.0, 0.0]), shading=shading, return_plot=True)\n",
    "p.add_points( GC.getVertices(), shading=shading)"
   ]
  },
  {
   "cell_type": "markdown",
   "metadata": {},
   "source": [
    "# Test 6: Dos joints Pegadas"
   ]
  },
  {
   "cell_type": "code",
   "execution_count": null,
   "metadata": {},
   "outputs": [],
   "source": [
    "G = generarGrafo( [ [0,0,0], [1,0,0], [2,0,0], [3, 1, 0], [3, -1, 0], [3.8, 1.8, 0], [3.8, -1.8, 0], [4.5, 2.3, -1], [4.5, 2.3, 1]], \n",
    "                  [0.7, 0.75, 0.8, .7, .7, .7, .7, .7, .7], \n",
    "                  [(0,1), (1,2), (2,3), (2,4), (3,5), (4,6), (3,7), (3,8)])\n",
    "GC = GrafoCentros( G )\n",
    "GC.tile()\n",
    "\n",
    "p = mp.plot( GC.getVertices(), GC.getCaras(), c=np.array([0.7, 0.0, 0.0]), shading=shading, return_plot=True)\n",
    "p.add_points( GC.getVertices(), shading=shading)"
   ]
  }
 ],
 "metadata": {
  "interpreter": {
   "hash": "eb39dedddd96e042909f6d2defbd179a23d2732cde05673458392b8d1ef182a1"
  },
  "kernelspec": {
   "display_name": "Python 3 (ipykernel)",
   "language": "python",
   "name": "python3"
  },
  "language_info": {
   "codemirror_mode": {
    "name": "ipython",
    "version": 3
   },
   "file_extension": ".py",
   "mimetype": "text/x-python",
   "name": "python",
   "nbconvert_exporter": "python",
   "pygments_lexer": "ipython3",
   "version": "3.10.5"
  }
 },
 "nbformat": 4,
 "nbformat_minor": 2
}
