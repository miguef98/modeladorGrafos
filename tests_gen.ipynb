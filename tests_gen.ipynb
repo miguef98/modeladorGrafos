{
 "cells": [
  {
   "cell_type": "markdown",
   "metadata": {},
   "source": [
    "## Tests visuales para generador de mallas"
   ]
  },
  {
   "cell_type": "markdown",
   "metadata": {},
   "source": [
    "Setup:"
   ]
  },
  {
   "cell_type": "code",
   "execution_count": 1,
   "metadata": {},
   "outputs": [],
   "source": [
    "import numpy as np\n",
    "import meshplot as mp\n",
    "import networkx as nx\n",
    "\n",
    "from src.mesh_gen.vec3 import Vec3\n",
    "from src.mesh_gen.modelador import GrafoCentros"
   ]
  },
  {
   "cell_type": "code",
   "execution_count": 2,
   "metadata": {},
   "outputs": [],
   "source": [
    "shading = { 'width': 500, 'height': 400, 'bbox':True, 'point_size': 1,\"side\": \"DoubleSide\" }"
   ]
  },
  {
   "cell_type": "code",
   "execution_count": 3,
   "metadata": {},
   "outputs": [],
   "source": [
    "def generarGrafo( listaPosiciones, listaRadios, listaAristas ):\n",
    "    G = nx.Graph()\n",
    "    G.add_nodes_from( [(idx, {'posicion': Vec3(*pos), 'radio': radio} ) for idx, (pos, radio) in enumerate(zip(listaPosiciones, listaRadios)) ] )\n",
    "    G.add_edges_from( listaAristas )\n",
    "    prepararAristas(G)\n",
    "    return G\n",
    "\n",
    "def prepararAristas( grafo ):\n",
    "    for arista in grafo.edges():\n",
    "        nx.set_edge_attributes( grafo, {arista : {'procesada':False}})"
   ]
  },
  {
   "cell_type": "markdown",
   "metadata": {},
   "source": [
    "# Test 1: Grafo Arbol sin bifurcaciones"
   ]
  },
  {
   "cell_type": "code",
   "execution_count": 4,
   "metadata": {},
   "outputs": [
    {
     "name": "stderr",
     "output_type": "stream",
     "text": [
      "/home/migue/miniconda3/envs/graficos/lib/python3.10/site-packages/jupyter_client/session.py:718: UserWarning: Message serialization failed with:\n",
      "Out of range float values are not JSON compliant\n",
      "Supporting this message is deprecated in jupyter-client 7, please make sure your message is JSON-compliant\n",
      "  content = self.pack(content)\n"
     ]
    },
    {
     "data": {
      "application/vnd.jupyter.widget-view+json": {
       "model_id": "41a9680ca29e45a4a78496038e7068b6",
       "version_major": 2,
       "version_minor": 0
      },
      "text/plain": [
       "Renderer(camera=PerspectiveCamera(aspect=1.25, children=(DirectionalLight(color='white', intensity=0.6, positi…"
      ]
     },
     "metadata": {},
     "output_type": "display_data"
    },
    {
     "data": {
      "text/plain": [
       "1"
      ]
     },
     "execution_count": 4,
     "metadata": {},
     "output_type": "execute_result"
    }
   ],
   "source": [
    "G = generarGrafo( [ [0,0,0], [0,1,0], [0,2,0]], [0.7, 0.75, 0.8], [(0,1), (1,2)])\n",
    "GC = GrafoCentros( G )\n",
    "GC.tile()\n",
    "\n",
    "p = mp.plot( GC.getVertices(), GC.getCaras(), shading=shading, return_plot=True)\n",
    "p.add_points( GC.getVertices(), shading=shading)"
   ]
  },
  {
   "cell_type": "code",
   "execution_count": 5,
   "metadata": {},
   "outputs": [
    {
     "data": {
      "application/vnd.jupyter.widget-view+json": {
       "model_id": "bd7658cfbd044ba6b8e7fb36ea325861",
       "version_major": 2,
       "version_minor": 0
      },
      "text/plain": [
       "Renderer(camera=PerspectiveCamera(aspect=1.25, children=(DirectionalLight(color='white', intensity=0.6, positi…"
      ]
     },
     "metadata": {},
     "output_type": "display_data"
    },
    {
     "data": {
      "text/plain": [
       "1"
      ]
     },
     "execution_count": 5,
     "metadata": {},
     "output_type": "execute_result"
    }
   ],
   "source": [
    "GC.subdivide()\n",
    "\n",
    "p = mp.plot( GC.getVertices(), GC.getCaras(), shading=shading, return_plot=True)\n",
    "p.add_points( GC.getVertices(), shading=shading)"
   ]
  },
  {
   "cell_type": "markdown",
   "metadata": {},
   "source": [
    "# Test 2: Ramas forward"
   ]
  },
  {
   "cell_type": "code",
   "execution_count": 7,
   "metadata": {},
   "outputs": [
    {
     "ename": "Exception",
     "evalue": "Algun error numerico...",
     "output_type": "error",
     "traceback": [
      "\u001b[0;31m---------------------------------------------------------------------------\u001b[0m",
      "\u001b[0;31mException\u001b[0m                                 Traceback (most recent call last)",
      "\u001b[1;32m/home/migue/Documents/Modelador_Grafos/tests_gen.ipynb Cell 10'\u001b[0m in \u001b[0;36m<cell line: 3>\u001b[0;34m()\u001b[0m\n\u001b[1;32m      <a href='vscode-notebook-cell:/home/migue/Documents/Modelador_Grafos/tests_gen.ipynb#ch0000008?line=0'>1</a>\u001b[0m G \u001b[39m=\u001b[39m generarGrafo( [ [\u001b[39m0\u001b[39m,\u001b[39m0\u001b[39m,\u001b[39m0\u001b[39m], [\u001b[39m1\u001b[39m,\u001b[39m0\u001b[39m,\u001b[39m0\u001b[39m], [\u001b[39m2\u001b[39m,\u001b[39m0\u001b[39m,\u001b[39m0\u001b[39m], [\u001b[39m3\u001b[39m, \u001b[39m1\u001b[39m, \u001b[39m0\u001b[39m], [\u001b[39m3\u001b[39m, \u001b[39m-\u001b[39m\u001b[39m1\u001b[39m, \u001b[39m0\u001b[39m], [\u001b[39m3.8\u001b[39m, \u001b[39m1.8\u001b[39m, \u001b[39m0\u001b[39m], [\u001b[39m3.8\u001b[39m, \u001b[39m-\u001b[39m\u001b[39m1.8\u001b[39m, \u001b[39m0\u001b[39m]], [\u001b[39m0.7\u001b[39m, \u001b[39m0.75\u001b[39m, \u001b[39m0.8\u001b[39m, \u001b[39m.7\u001b[39m, \u001b[39m.7\u001b[39m, \u001b[39m.7\u001b[39m, \u001b[39m.7\u001b[39m], [(\u001b[39m0\u001b[39m,\u001b[39m1\u001b[39m), (\u001b[39m1\u001b[39m,\u001b[39m2\u001b[39m), (\u001b[39m2\u001b[39m,\u001b[39m3\u001b[39m), (\u001b[39m2\u001b[39m,\u001b[39m4\u001b[39m), (\u001b[39m3\u001b[39m,\u001b[39m5\u001b[39m), (\u001b[39m4\u001b[39m,\u001b[39m6\u001b[39m)])\n\u001b[1;32m      <a href='vscode-notebook-cell:/home/migue/Documents/Modelador_Grafos/tests_gen.ipynb#ch0000008?line=1'>2</a>\u001b[0m GC \u001b[39m=\u001b[39m GrafoCentros( G )\n\u001b[0;32m----> <a href='vscode-notebook-cell:/home/migue/Documents/Modelador_Grafos/tests_gen.ipynb#ch0000008?line=2'>3</a>\u001b[0m GC\u001b[39m.\u001b[39;49mtile()\n\u001b[1;32m      <a href='vscode-notebook-cell:/home/migue/Documents/Modelador_Grafos/tests_gen.ipynb#ch0000008?line=4'>5</a>\u001b[0m p \u001b[39m=\u001b[39m mp\u001b[39m.\u001b[39mplot( GC\u001b[39m.\u001b[39mgetVertices(), GC\u001b[39m.\u001b[39mgetCaras(), c\u001b[39m=\u001b[39mnp\u001b[39m.\u001b[39marray([\u001b[39m0.7\u001b[39m, \u001b[39m0.0\u001b[39m, \u001b[39m0.0\u001b[39m]), shading\u001b[39m=\u001b[39mshading, return_plot\u001b[39m=\u001b[39m\u001b[39mTrue\u001b[39;00m)\n\u001b[1;32m      <a href='vscode-notebook-cell:/home/migue/Documents/Modelador_Grafos/tests_gen.ipynb#ch0000008?line=5'>6</a>\u001b[0m p\u001b[39m.\u001b[39madd_points( GC\u001b[39m.\u001b[39mgetVertices(), shading\u001b[39m=\u001b[39mshading)\n",
      "File \u001b[0;32m~/Documents/Modelador_Grafos/src/mesh_gen/modelador.py:31\u001b[0m, in \u001b[0;36mGrafoCentros.tile\u001b[0;34m(self)\u001b[0m\n\u001b[1;32m     28\u001b[0m         \u001b[39mbreak\u001b[39;00m\n\u001b[1;32m     30\u001b[0m cola \u001b[39m=\u001b[39m \u001b[39mset\u001b[39m()\n\u001b[0;32m---> 31\u001b[0m \u001b[39mself\u001b[39;49m\u001b[39m.\u001b[39;49mprocesarTile( nodoInicial, cola )\n",
      "File \u001b[0;32m~/Documents/Modelador_Grafos/src/mesh_gen/modelador.py:40\u001b[0m, in \u001b[0;36mGrafoCentros.procesarTile\u001b[0;34m(self, nodo, cola)\u001b[0m\n\u001b[1;32m     38\u001b[0m     \u001b[39m#self.mesh.agregarCuadrado( nodo, normalCuadrado, Vec3(0.3,0.5,1).projectToPlane(normalCuadrado).normalizar() )       \u001b[39;00m\n\u001b[1;32m     39\u001b[0m     \u001b[39mself\u001b[39m\u001b[39m.\u001b[39mmesh\u001b[39m.\u001b[39mtileTrivially( nodo, vecinoAProcesar )\n\u001b[0;32m---> 40\u001b[0m     \u001b[39mself\u001b[39;49m\u001b[39m.\u001b[39;49mprocesarTile( vecinoAProcesar, cola )\n\u001b[1;32m     42\u001b[0m \u001b[39melse\u001b[39;00m:\n\u001b[1;32m     43\u001b[0m     vecinosAProcesar \u001b[39m=\u001b[39m \u001b[39mself\u001b[39m\u001b[39m.\u001b[39mvecinosAProcesar(nodo)\n",
      "File \u001b[0;32m~/Documents/Modelador_Grafos/src/mesh_gen/modelador.py:58\u001b[0m, in \u001b[0;36mGrafoCentros.procesarTile\u001b[0;34m(self, nodo, cola)\u001b[0m\n\u001b[1;32m     55\u001b[0m         vecinosFwd, vecinosBwd \u001b[39m=\u001b[39m \u001b[39mself\u001b[39m\u001b[39m.\u001b[39mclasificarVecinosFwdBwd( nodo, vecinoAProcesar )\n\u001b[1;32m     56\u001b[0m         cola \u001b[39m=\u001b[39m \u001b[39mself\u001b[39m\u001b[39m.\u001b[39mmesh\u001b[39m.\u001b[39mtileJoint( nodo, vecinoAProcesar, vecinosBwd, \u001b[39mNone\u001b[39;00m, cola )\n\u001b[0;32m---> 58\u001b[0m         \u001b[39mself\u001b[39;49m\u001b[39m.\u001b[39;49mprocesarTile( vecinoAProcesar, cola )\n\u001b[1;32m     60\u001b[0m \u001b[39melse\u001b[39;00m: \u001b[39m# osea tengo mas de un vecino a procesar... significa que tengo que unirlos forward!\u001b[39;00m\n\u001b[1;32m     61\u001b[0m     vecinosAProcesar \u001b[39m=\u001b[39m \u001b[39mself\u001b[39m\u001b[39m.\u001b[39mvecinosAProcesar(nodo)\n",
      "File \u001b[0;32m~/Documents/Modelador_Grafos/src/mesh_gen/modelador.py:70\u001b[0m, in \u001b[0;36mGrafoCentros.procesarTile\u001b[0;34m(self, nodo, cola)\u001b[0m\n\u001b[1;32m     68\u001b[0m vecinosAProcesar\u001b[39m.\u001b[39mremove( vecinoFwdMasCercano )\n\u001b[1;32m     69\u001b[0m \u001b[39mself\u001b[39m\u001b[39m.\u001b[39mpasarVecinosANodo( nodo, vecinoFwdMasCercano, vecinosAProcesar)\n\u001b[0;32m---> 70\u001b[0m \u001b[39mself\u001b[39;49m\u001b[39m.\u001b[39;49mprocesarTile( nodo, cola )\n",
      "File \u001b[0;32m~/Documents/Modelador_Grafos/src/mesh_gen/modelador.py:56\u001b[0m, in \u001b[0;36mGrafoCentros.procesarTile\u001b[0;34m(self, nodo, cola)\u001b[0m\n\u001b[1;32m     54\u001b[0m         \u001b[39mself\u001b[39m\u001b[39m.\u001b[39mgenerarIntermediosAJoint( nodo, vecinoAProcesar )\n\u001b[1;32m     55\u001b[0m         vecinosFwd, vecinosBwd \u001b[39m=\u001b[39m \u001b[39mself\u001b[39m\u001b[39m.\u001b[39mclasificarVecinosFwdBwd( nodo, vecinoAProcesar )\n\u001b[0;32m---> 56\u001b[0m         cola \u001b[39m=\u001b[39m \u001b[39mself\u001b[39;49m\u001b[39m.\u001b[39;49mmesh\u001b[39m.\u001b[39;49mtileJoint( nodo, vecinoAProcesar, vecinosBwd, \u001b[39mNone\u001b[39;49;00m, cola )\n\u001b[1;32m     58\u001b[0m         \u001b[39mself\u001b[39m\u001b[39m.\u001b[39mprocesarTile( vecinoAProcesar, cola )\n\u001b[1;32m     60\u001b[0m \u001b[39melse\u001b[39;00m: \u001b[39m# osea tengo mas de un vecino a procesar... significa que tengo que unirlos forward!\u001b[39;00m\n",
      "File \u001b[0;32m~/Documents/Modelador_Grafos/src/mesh_gen/mesh.py:180\u001b[0m, in \u001b[0;36mMeshGrafo.tileJoint\u001b[0;34m(self, nodoFrom, nodoJoint, nodosTo, indicesVertices, cola)\u001b[0m\n\u001b[1;32m    177\u001b[0m             \u001b[39mself\u001b[39m\u001b[39m.\u001b[39magregarCuadradoOrientado( nodoJoint, vecinoMasCercano, indicesVerticesConexionConMasCercano )\n\u001b[1;32m    179\u001b[0m         nodosCuadrante\u001b[39m.\u001b[39mremove( vecinoMasCercano )\n\u001b[0;32m--> 180\u001b[0m         cola2 \u001b[39m=\u001b[39m \u001b[39mself\u001b[39;49m\u001b[39m.\u001b[39;49mtileJoint( nodoJoint, vecinoMasCercano, nodosCuadrante, indicesVerticesConexionConMasCercano, cola)\n\u001b[1;32m    182\u001b[0m         [ \u001b[39mself\u001b[39m\u001b[39m.\u001b[39mG\u001b[39m.\u001b[39msetearAristaProcesada( nodoJoint, i ) \u001b[39mfor\u001b[39;00m i \u001b[39min\u001b[39;00m nodosCuadrante ]\n\u001b[1;32m    184\u001b[0m \u001b[39mself\u001b[39m\u001b[39m.\u001b[39mG\u001b[39m.\u001b[39msetearAristaProcesada( nodoFrom, nodoJoint )\n",
      "File \u001b[0;32m~/Documents/Modelador_Grafos/src/mesh_gen/mesh.py:167\u001b[0m, in \u001b[0;36mMeshGrafo.tileJoint\u001b[0;34m(self, nodoFrom, nodoJoint, nodosTo, indicesVertices, cola)\u001b[0m\n\u001b[1;32m    165\u001b[0m         \u001b[39mself\u001b[39m\u001b[39m.\u001b[39mcaras\u001b[39m.\u001b[39mappend( \u001b[39mself\u001b[39m\u001b[39m.\u001b[39mcalcularCaraCuadranteEntreNodos( nodoFrom, nodoJoint, cuadrante ) )\n\u001b[1;32m    166\u001b[0m     \u001b[39melse\u001b[39;00m:\n\u001b[0;32m--> 167\u001b[0m         \u001b[39mself\u001b[39m\u001b[39m.\u001b[39mcaras\u001b[39m.\u001b[39mappend( \u001b[39mself\u001b[39;49m\u001b[39m.\u001b[39;49mcalcularCaraCuadranteEntreNodoYVertices( nodoJoint, indicesVertices, cuadrante) )\n\u001b[1;32m    168\u001b[0m \u001b[39melse\u001b[39;00m:\n\u001b[1;32m    169\u001b[0m     vecinoMasCercano \u001b[39m=\u001b[39m \u001b[39mself\u001b[39m\u001b[39m.\u001b[39mG\u001b[39m.\u001b[39mnodoMasCercano( nodoJoint, nodosCuadrante)\n",
      "File \u001b[0;32m~/Documents/Modelador_Grafos/src/mesh_gen/mesh.py:125\u001b[0m, in \u001b[0;36mMeshGrafo.calcularCaraCuadranteEntreNodoYVertices\u001b[0;34m(self, nodo, indicesVertices, cuadrante)\u001b[0m\n\u001b[1;32m    123\u001b[0m normalCara \u001b[39m=\u001b[39m \u001b[39mself\u001b[39m\u001b[39m.\u001b[39mvertice( indicesVerticesCara[\u001b[39m0\u001b[39m] )\u001b[39m.\u001b[39mplanoFormado( \u001b[39mself\u001b[39m\u001b[39m.\u001b[39mvertice( indicesVerticesCara[\u001b[39m1\u001b[39m] ), \u001b[39mself\u001b[39m\u001b[39m.\u001b[39mvertice( indicesVerticesCara[\u001b[39m2\u001b[39m] ))\n\u001b[1;32m    124\u001b[0m verticesDesdeCentroMasa \u001b[39m=\u001b[39m [ centroMasaCara\u001b[39m.\u001b[39mdirTo( \u001b[39mself\u001b[39m\u001b[39m.\u001b[39mvertice(i) ) \u001b[39mfor\u001b[39;00m i \u001b[39min\u001b[39;00m indicesVerticesCara ]\n\u001b[0;32m--> 125\u001b[0m angulos \u001b[39m=\u001b[39m [ verticesDesdeCentroMasa[\u001b[39m0\u001b[39m]\u001b[39m.\u001b[39mangleTo( vertice, normalCara ) \u001b[39mfor\u001b[39;00m vertice \u001b[39min\u001b[39;00m verticesDesdeCentroMasa[\u001b[39m1\u001b[39m:] ]\n\u001b[1;32m    126\u001b[0m ordenAngulos \u001b[39m=\u001b[39m np\u001b[39m.\u001b[39margsort( angulos )\n\u001b[1;32m    128\u001b[0m \u001b[39mreturn\u001b[39;00m [\n\u001b[1;32m    129\u001b[0m     indicesVerticesCara[\u001b[39m0\u001b[39m],\n\u001b[1;32m    130\u001b[0m     indicesVerticesCara[ ordenAngulos[\u001b[39m0\u001b[39m] ],\n\u001b[1;32m    131\u001b[0m     indicesVerticesCara[ ordenAngulos[\u001b[39m1\u001b[39m] ],\n\u001b[1;32m    132\u001b[0m     indicesVerticesCara[ ordenAngulos[\u001b[39m2\u001b[39m] ]\n\u001b[1;32m    133\u001b[0m ]\n",
      "File \u001b[0;32m~/Documents/Modelador_Grafos/src/mesh_gen/mesh.py:125\u001b[0m, in \u001b[0;36m<listcomp>\u001b[0;34m(.0)\u001b[0m\n\u001b[1;32m    123\u001b[0m normalCara \u001b[39m=\u001b[39m \u001b[39mself\u001b[39m\u001b[39m.\u001b[39mvertice( indicesVerticesCara[\u001b[39m0\u001b[39m] )\u001b[39m.\u001b[39mplanoFormado( \u001b[39mself\u001b[39m\u001b[39m.\u001b[39mvertice( indicesVerticesCara[\u001b[39m1\u001b[39m] ), \u001b[39mself\u001b[39m\u001b[39m.\u001b[39mvertice( indicesVerticesCara[\u001b[39m2\u001b[39m] ))\n\u001b[1;32m    124\u001b[0m verticesDesdeCentroMasa \u001b[39m=\u001b[39m [ centroMasaCara\u001b[39m.\u001b[39mdirTo( \u001b[39mself\u001b[39m\u001b[39m.\u001b[39mvertice(i) ) \u001b[39mfor\u001b[39;00m i \u001b[39min\u001b[39;00m indicesVerticesCara ]\n\u001b[0;32m--> 125\u001b[0m angulos \u001b[39m=\u001b[39m [ verticesDesdeCentroMasa[\u001b[39m0\u001b[39;49m]\u001b[39m.\u001b[39;49mangleTo( vertice, normalCara ) \u001b[39mfor\u001b[39;00m vertice \u001b[39min\u001b[39;00m verticesDesdeCentroMasa[\u001b[39m1\u001b[39m:] ]\n\u001b[1;32m    126\u001b[0m ordenAngulos \u001b[39m=\u001b[39m np\u001b[39m.\u001b[39margsort( angulos )\n\u001b[1;32m    128\u001b[0m \u001b[39mreturn\u001b[39;00m [\n\u001b[1;32m    129\u001b[0m     indicesVerticesCara[\u001b[39m0\u001b[39m],\n\u001b[1;32m    130\u001b[0m     indicesVerticesCara[ ordenAngulos[\u001b[39m0\u001b[39m] ],\n\u001b[1;32m    131\u001b[0m     indicesVerticesCara[ ordenAngulos[\u001b[39m1\u001b[39m] ],\n\u001b[1;32m    132\u001b[0m     indicesVerticesCara[ ordenAngulos[\u001b[39m2\u001b[39m] ]\n\u001b[1;32m    133\u001b[0m ]\n",
      "File \u001b[0;32m~/Documents/Modelador_Grafos/src/mesh_gen/vec3.py:74\u001b[0m, in \u001b[0;36mVec3.angleTo\u001b[0;34m(self, other, normal)\u001b[0m\n\u001b[1;32m     72\u001b[0m     t1 \u001b[39m=\u001b[39m \u001b[39m-\u001b[39m\u001b[39m1\u001b[39m\n\u001b[1;32m     73\u001b[0m \u001b[39melif\u001b[39;00m t1 \u001b[39m>\u001b[39m \u001b[39m1\u001b[39m \u001b[39mor\u001b[39;00m t1 \u001b[39m<\u001b[39m \u001b[39m-\u001b[39m\u001b[39m1\u001b[39m:\n\u001b[0;32m---> 74\u001b[0m     \u001b[39mraise\u001b[39;00m \u001b[39mException\u001b[39;00m( \u001b[39m\"\u001b[39m\u001b[39mAlgun error numerico...\u001b[39m\u001b[39m\"\u001b[39m )\n\u001b[1;32m     76\u001b[0m anguloSelf \u001b[39m=\u001b[39m np\u001b[39m.\u001b[39marcsin( t1 )\n\u001b[1;32m     78\u001b[0m t2 \u001b[39m=\u001b[39m (cotang\u001b[39m.\u001b[39mcross(proy))\u001b[39m.\u001b[39mgetCoord(coord) \u001b[39m/\u001b[39m (cotang\u001b[39m.\u001b[39mnorm2() \u001b[39m*\u001b[39m proy\u001b[39m.\u001b[39mnorm2() \u001b[39m*\u001b[39m normal\u001b[39m.\u001b[39mgetCoord(coord))\n",
      "\u001b[0;31mException\u001b[0m: Algun error numerico..."
     ]
    }
   ],
   "source": [
    "G = generarGrafo( [ [0,0,0], [1,0,0], [2,0,0], [3, 1, 0], [3, -1, 0], [3.8, 1.8, 0], [3.8, -1.8, 0]], [0.7, 0.75, 0.8, .7, .7, .7, .7], [(0,1), (1,2), (2,3), (2,4), (3,5), (4,6)])\n",
    "GC = GrafoCentros( G )\n",
    "GC.tile()\n",
    "\n",
    "p = mp.plot( GC.getVertices(), GC.getCaras(), c=np.array([0.7, 0.0, 0.0]), shading=shading, return_plot=True)\n",
    "p.add_points( GC.getVertices(), shading=shading)"
   ]
  },
  {
   "cell_type": "code",
   "execution_count": 5,
   "metadata": {},
   "outputs": [
    {
     "data": {
      "application/vnd.jupyter.widget-view+json": {
       "model_id": "466d7d9d7a464acc9dc15f6f9b9074ff",
       "version_major": 2,
       "version_minor": 0
      },
      "text/plain": [
       "Renderer(camera=PerspectiveCamera(aspect=1.25, children=(DirectionalLight(color='white', intensity=0.6, positi…"
      ]
     },
     "metadata": {},
     "output_type": "display_data"
    },
    {
     "data": {
      "text/plain": [
       "1"
      ]
     },
     "execution_count": 5,
     "metadata": {},
     "output_type": "execute_result"
    }
   ],
   "source": [
    "GC.subdivide()\n",
    "p = mp.plot( GC.getVertices(), GC.getCaras(), c=np.array([0.7, 0.0, 0.0]), shading=shading, return_plot=True)\n",
    "p.add_points( GC.getVertices(), shading=shading)"
   ]
  },
  {
   "cell_type": "markdown",
   "metadata": {},
   "source": [
    "# Test 3: Ramas Backwards"
   ]
  },
  {
   "cell_type": "code",
   "execution_count": null,
   "metadata": {},
   "outputs": [],
   "source": [
    "G = generarGrafo( [ [0,0,0], [1,0,0], [2,0,0], [1, 2, 0], [1, -2, 0], [0, 3, 0], [0, -3, 0]], [0.7, 0.75, 0.8, .7, .7, .7, .7], [(0,1), (1,2), (2,3), (2,4), (3,5), (4,6)])\n",
    "GC = GrafoCentros( G )\n",
    "GC.tile()\n",
    "\n",
    "p = mp.plot( GC.getVertices(), GC.getCaras(), c=np.array([0.7, 0.0, 0.0]), shading=shading, return_plot=True)\n",
    "p.add_points( GC.getVertices(), shading=shading)"
   ]
  },
  {
   "cell_type": "code",
   "execution_count": null,
   "metadata": {},
   "outputs": [],
   "source": [
    "GC.subdivide()\n",
    "p = mp.plot( GC.getVertices(), GC.getCaras(), c=np.array([0.7, 0.0, 0.0]), shading=shading, return_plot=True)\n",
    "p.add_points( GC.getVertices(), shading=shading)"
   ]
  },
  {
   "cell_type": "markdown",
   "metadata": {},
   "source": [
    "## Test 4: Ramas backwards y ramas forward"
   ]
  },
  {
   "cell_type": "code",
   "execution_count": null,
   "metadata": {},
   "outputs": [],
   "source": [
    "G = generarGrafo( [ [0,0,0], [1,0,0], [2,0,0], [1, 2, 0], [1, -2, 0], [0, 3, 0], [0, -3, 0], [3, 1, 0], [3, -1, 0], [3.8, 1.8, 0], [3.8, -1.8, 0]],\n",
    "                  [0.7, 0.75, 0.8, .7, .7, .7, .7, .7, .7, .7, .7], \n",
    "                  [(0,1), (1,2), (2,3), (2,4), (3,5), (4,6), (2,7), (2,8), (7,9), (8, 10)])\n",
    "GC = GrafoCentros( G )\n",
    "GC.tile()\n",
    "\n",
    "p = mp.plot( GC.getVertices(), GC.getCaras(), c=np.array([0.7, 0.0, 0.0]), shading=shading, return_plot=True)\n",
    "p.add_points( GC.getVertices(), shading=shading)"
   ]
  },
  {
   "cell_type": "code",
   "execution_count": null,
   "metadata": {},
   "outputs": [],
   "source": [
    "GC.subdivide()\n",
    "p = mp.plot( GC.getVertices(), GC.getCaras(), c=np.array([0.7, 0.0, 0.0]), shading=shading, return_plot=True)\n",
    "p.add_points( GC.getVertices(), shading=shading)"
   ]
  },
  {
   "cell_type": "markdown",
   "metadata": {},
   "source": [
    "# Test 5: Dos ramas forward del mismo cuadrante"
   ]
  },
  {
   "cell_type": "code",
   "execution_count": null,
   "metadata": {},
   "outputs": [],
   "source": [
    "G = generarGrafo( [ [0,0,0], [1,0,0], [2,0,0], [3, 1, 0], [3.8, 1.8, 0], [4,0,-.7], [4.5, 0, -1.5] , [4,0,.7], [4.5, 0, 1.5]],\n",
    "                  [0.7, 0.75, 0.8, .7, .7, .2, .2, .2, .2], \n",
    "                  [(0,1), (1,2), (2,3), (3,4), (2,5), (5,6), (2,7), (7,8)])\n",
    "GC = GrafoCentros( G )\n",
    "GC.tile()\n",
    "\n",
    "p = mp.plot( GC.getVertices(), GC.getCaras(), c=np.array([0.7, 0.0, 0.0]), shading=shading, return_plot=True)\n",
    "p.add_points( GC.getVertices(), shading=shading)"
   ]
  },
  {
   "cell_type": "code",
   "execution_count": null,
   "metadata": {},
   "outputs": [],
   "source": [
    "GC.subdivide()\n",
    "p = mp.plot( GC.getVertices(), GC.getCaras(), c=np.array([0.7, 0.0, 0.0]), shading=shading, return_plot=True)\n",
    "p.add_points( GC.getVertices(), shading=shading)"
   ]
  },
  {
   "cell_type": "markdown",
   "metadata": {},
   "source": [
    "# Test 6: Dos joints Pegadas"
   ]
  },
  {
   "cell_type": "code",
   "execution_count": null,
   "metadata": {},
   "outputs": [],
   "source": [
    "G = generarGrafo( [ [0,0,0], [1,0,0], [2,0,0], [3, 1, 0], [3, -1, 0], [3.8, 1.8, 0], [3.8, -1.8, 0], [4.5, 2.3, -1], [4.5, 2.3, 1]], \n",
    "                  [0.7, 0.75, 0.8, .7, .7, .7, .7, .7, .7], \n",
    "                  [(0,1), (1,2), (2,3), (2,4), (3,5), (4,6), (3,7), (3,8)])\n",
    "GC = GrafoCentros( G )\n",
    "GC.tile()\n",
    "\n",
    "p = mp.plot( GC.mesh.getVertices(), GC.mesh.getCaras(), c=np.array([0.7, 0.0, 0.0]), shading=shading, return_plot=True)\n",
    "p.add_points( GC.mesh.getVertices(), shading=shading)"
   ]
  }
 ],
 "metadata": {
  "interpreter": {
   "hash": "eb39dedddd96e042909f6d2defbd179a23d2732cde05673458392b8d1ef182a1"
  },
  "kernelspec": {
   "display_name": "Python 3.10.4 ('graficos')",
   "language": "python",
   "name": "python3"
  },
  "language_info": {
   "codemirror_mode": {
    "name": "ipython",
    "version": 3
   },
   "file_extension": ".py",
   "mimetype": "text/x-python",
   "name": "python",
   "nbconvert_exporter": "python",
   "pygments_lexer": "ipython3",
   "version": "3.10.5"
  }
 },
 "nbformat": 4,
 "nbformat_minor": 2
}
