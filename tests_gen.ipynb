{
 "cells": [
  {
   "cell_type": "markdown",
   "metadata": {},
   "source": [
    "## Tests visuales para generador de mallas"
   ]
  },
  {
   "cell_type": "markdown",
   "metadata": {},
   "source": [
    "Setup:"
   ]
  },
  {
   "cell_type": "code",
   "execution_count": 1,
   "metadata": {},
   "outputs": [],
   "source": [
    "import numpy as np\n",
    "import meshplot as mp\n",
    "import networkx as nx\n",
    "from vec3 import Vec3\n",
    "from modelador import GrafoCentros"
   ]
  },
  {
   "cell_type": "code",
   "execution_count": 2,
   "metadata": {},
   "outputs": [],
   "source": [
    "shading = { 'width': 500, 'height': 400, 'bbox':True, 'point_size': 1 }"
   ]
  },
  {
   "cell_type": "code",
   "execution_count": 3,
   "metadata": {},
   "outputs": [],
   "source": [
    "def generarGrafo( listaPosiciones, listaRadios, listaAristas ):\n",
    "    G = nx.Graph()\n",
    "    G.add_nodes_from( [(idx, {'posicion': Vec3(*pos), 'radio': radio} ) for idx, (pos, radio) in enumerate(zip(listaPosiciones, listaRadios)) ] )\n",
    "    G.add_edges_from( listaAristas )\n",
    "    prepararAristas(G)\n",
    "    return G\n",
    "\n",
    "def prepararAristas( grafo ):\n",
    "    for arista in grafo.edges():\n",
    "        nx.set_edge_attributes( grafo, {arista : {'procesada':False}})"
   ]
  },
  {
   "cell_type": "markdown",
   "metadata": {},
   "source": [
    "# Test 1: Grafo Arbol sin bifurcaciones"
   ]
  },
  {
   "cell_type": "code",
   "execution_count": 4,
   "metadata": {},
   "outputs": [
    {
     "name": "stderr",
     "output_type": "stream",
     "text": [
      "/home/migue/miniconda3/envs/graficos/lib/python3.9/site-packages/jupyter_client/session.py:716: UserWarning: Message serialization failed with:\n",
      "Out of range float values are not JSON compliant\n",
      "Supporting this message is deprecated in jupyter-client 7, please make sure your message is JSON-compliant\n",
      "  content = self.pack(content)\n"
     ]
    },
    {
     "data": {
      "application/vnd.jupyter.widget-view+json": {
       "model_id": "14ab448779db473d821e02f68e36016c",
       "version_major": 2,
       "version_minor": 0
      },
      "text/plain": [
       "Renderer(camera=PerspectiveCamera(aspect=1.25, children=(DirectionalLight(color='white', intensity=0.6, positi…"
      ]
     },
     "metadata": {},
     "output_type": "display_data"
    },
    {
     "name": "stdout",
     "output_type": "stream",
     "text": [
      "Invalid color array given! Supported are numpy arrays. <class 'numpy.ndarray'>\n"
     ]
    },
    {
     "data": {
      "text/plain": [
       "1"
      ]
     },
     "execution_count": 4,
     "metadata": {},
     "output_type": "execute_result"
    }
   ],
   "source": [
    "G = generarGrafo( [ [0,0,0], [1,0,0], [2,0,0]], [0.7, 0.75, 0.8], [(0,1), (1,2)])\n",
    "GC = GrafoCentros( G )\n",
    "GC.tile()\n",
    "\n",
    "p = mp.plot( GC.mesh.getVertices(), GC.mesh.getCaras(), c=np.array([0.7, 0.0, 0.0]), shading=shading, return_plot=True)\n",
    "p.add_points( GC.mesh.getVertices(), c=np.array([0.7, 0.0, 0.0]), shading=shading)"
   ]
  },
  {
   "cell_type": "markdown",
   "metadata": {},
   "source": [
    "# Test 2: Ramas forward"
   ]
  },
  {
   "cell_type": "code",
   "execution_count": 5,
   "metadata": {},
   "outputs": [
    {
     "data": {
      "application/vnd.jupyter.widget-view+json": {
       "model_id": "56da8ff462d24d90bf7d51bb9543e014",
       "version_major": 2,
       "version_minor": 0
      },
      "text/plain": [
       "Renderer(camera=PerspectiveCamera(aspect=1.25, children=(DirectionalLight(color='white', intensity=0.6, positi…"
      ]
     },
     "metadata": {},
     "output_type": "display_data"
    },
    {
     "data": {
      "text/plain": [
       "1"
      ]
     },
     "execution_count": 5,
     "metadata": {},
     "output_type": "execute_result"
    }
   ],
   "source": [
    "G = generarGrafo( [ [0,0,0], [1,0,0], [2,0,0], [3, 1, 0], [3, -1, 0], [3.8, 1.8, 0], [3.8, -1.8, 0]], [0.7, 0.75, 0.8, .7, .7, .7, .7], [(0,1), (1,2), (2,3), (2,4), (3,5), (4,6)])\n",
    "GC = GrafoCentros( G )\n",
    "GC.tile()\n",
    "\n",
    "p = mp.plot( GC.mesh.getVertices(), GC.mesh.getCaras(), c=np.array([0.7, 0.0, 0.0]), shading=shading, return_plot=True)\n",
    "p.add_points( GC.mesh.getVertices(), shading=shading)"
   ]
  },
  {
   "cell_type": "markdown",
   "metadata": {},
   "source": [
    "# Test 3: Ramas Backwards"
   ]
  },
  {
   "cell_type": "code",
   "execution_count": 6,
   "metadata": {},
   "outputs": [
    {
     "data": {
      "application/vnd.jupyter.widget-view+json": {
       "model_id": "d5001e80915f4226abd55563807eacb9",
       "version_major": 2,
       "version_minor": 0
      },
      "text/plain": [
       "Renderer(camera=PerspectiveCamera(aspect=1.25, children=(DirectionalLight(color='white', intensity=0.6, positi…"
      ]
     },
     "metadata": {},
     "output_type": "display_data"
    },
    {
     "data": {
      "text/plain": [
       "1"
      ]
     },
     "execution_count": 6,
     "metadata": {},
     "output_type": "execute_result"
    }
   ],
   "source": [
    "G = generarGrafo( [ [0,0,0], [1,0,0], [2,0,0], [1, 2, 0], [1, -2, 0], [0, 3, 0], [0, -3, 0]], [0.7, 0.75, 0.8, .7, .7, .7, .7], [(0,1), (1,2), (2,3), (2,4), (3,5), (4,6)])\n",
    "GC = GrafoCentros( G )\n",
    "GC.tile()\n",
    "\n",
    "p = mp.plot( GC.mesh.getVertices(), GC.mesh.getCaras(), c=np.array([0.7, 0.0, 0.0]), shading=shading, return_plot=True)\n",
    "p.add_points( GC.mesh.getVertices(), shading=shading)"
   ]
  },
  {
   "cell_type": "markdown",
   "metadata": {},
   "source": [
    "## Test 4: Ramas backwards y ramas forward"
   ]
  },
  {
   "cell_type": "code",
   "execution_count": 7,
   "metadata": {},
   "outputs": [
    {
     "data": {
      "application/vnd.jupyter.widget-view+json": {
       "model_id": "85fe0c16aa1c403b8a1f3531328d5b27",
       "version_major": 2,
       "version_minor": 0
      },
      "text/plain": [
       "Renderer(camera=PerspectiveCamera(aspect=1.25, children=(DirectionalLight(color='white', intensity=0.6, positi…"
      ]
     },
     "metadata": {},
     "output_type": "display_data"
    },
    {
     "data": {
      "text/plain": [
       "1"
      ]
     },
     "execution_count": 7,
     "metadata": {},
     "output_type": "execute_result"
    }
   ],
   "source": [
    "G = generarGrafo( [ [0,0,0], [1,0,0], [2,0,0], [1, 2, 0], [1, -2, 0], [0, 3, 0], [0, -3, 0], [3, 1, 0], [3, -1, 0], [3.8, 1.8, 0], [3.8, -1.8, 0]],\n",
    "                  [0.7, 0.75, 0.8, .7, .7, .7, .7, .7, .7, .7, .7], \n",
    "                  [(0,1), (1,2), (2,3), (2,4), (3,5), (4,6), (2,7), (2,8), (7,9), (8, 10)])\n",
    "GC = GrafoCentros( G )\n",
    "GC.tile()\n",
    "\n",
    "p = mp.plot( GC.mesh.getVertices(), GC.mesh.getCaras(), c=np.array([0.7, 0.0, 0.0]), shading=shading, return_plot=True)\n",
    "p.add_points( GC.mesh.getVertices(), shading=shading)"
   ]
  },
  {
   "cell_type": "markdown",
   "metadata": {},
   "source": [
    "# Test 5: Dos ramas forward del mismo cuadrante"
   ]
  },
  {
   "cell_type": "code",
   "execution_count": 9,
   "metadata": {},
   "outputs": [
    {
     "data": {
      "application/vnd.jupyter.widget-view+json": {
       "model_id": "e04b75c801ab488391d9a6246d9556ae",
       "version_major": 2,
       "version_minor": 0
      },
      "text/plain": [
       "Renderer(camera=PerspectiveCamera(aspect=1.25, children=(DirectionalLight(color='white', intensity=0.6, positi…"
      ]
     },
     "metadata": {},
     "output_type": "display_data"
    },
    {
     "data": {
      "text/plain": [
       "1"
      ]
     },
     "execution_count": 9,
     "metadata": {},
     "output_type": "execute_result"
    }
   ],
   "source": [
    "G = generarGrafo( [ [0,0,0], [1,0,0], [2,0,0], [3, 1, 0], [3.8, 1.8, 0], [4,0,-.7], [4.5, 0, -1.5] , [4,0,.7], [4.5, 0, 1.5]],\n",
    "                  [0.7, 0.75, 0.8, .7, .7, .2, .2, .2, .2], \n",
    "                  [(0,1), (1,2), (2,3), (3,4), (2,5), (5,6), (2,7), (7,8)])\n",
    "GC = GrafoCentros( G )\n",
    "GC.tile()\n",
    "\n",
    "p = mp.plot( GC.mesh.getVertices(), GC.mesh.getCaras(), c=np.array([0.7, 0.0, 0.0]), shading=shading, return_plot=True)\n",
    "p.add_points( GC.mesh.getVertices(), shading=shading)"
   ]
  },
  {
   "cell_type": "markdown",
   "metadata": {},
   "source": [
    "# Test 6: Dos joints Pegadas"
   ]
  },
  {
   "cell_type": "code",
   "execution_count": 11,
   "metadata": {},
   "outputs": [
    {
     "ename": "KeyError",
     "evalue": "7",
     "output_type": "error",
     "traceback": [
      "\u001b[0;31m---------------------------------------------------------------------------\u001b[0m",
      "\u001b[0;31mKeyError\u001b[0m                                  Traceback (most recent call last)",
      "\u001b[1;32m/home/migue/Documents/Migue/DiTella/modeladorGrafos/tests_gen.ipynb Cell 17'\u001b[0m in \u001b[0;36m<cell line: 5>\u001b[0;34m()\u001b[0m\n\u001b[1;32m      <a href='vscode-notebook-cell:/home/migue/Documents/Migue/DiTella/modeladorGrafos/tests_gen.ipynb#ch0000018?line=0'>1</a>\u001b[0m G \u001b[39m=\u001b[39m generarGrafo( [ [\u001b[39m0\u001b[39m,\u001b[39m0\u001b[39m,\u001b[39m0\u001b[39m], [\u001b[39m1\u001b[39m,\u001b[39m0\u001b[39m,\u001b[39m0\u001b[39m], [\u001b[39m2\u001b[39m,\u001b[39m0\u001b[39m,\u001b[39m0\u001b[39m], [\u001b[39m3\u001b[39m, \u001b[39m1\u001b[39m, \u001b[39m0\u001b[39m], [\u001b[39m3\u001b[39m, \u001b[39m-\u001b[39m\u001b[39m1\u001b[39m, \u001b[39m0\u001b[39m], [\u001b[39m3.8\u001b[39m, \u001b[39m1.8\u001b[39m, \u001b[39m0\u001b[39m], [\u001b[39m3.8\u001b[39m, \u001b[39m-\u001b[39m\u001b[39m1.8\u001b[39m, \u001b[39m0\u001b[39m], [\u001b[39m4.5\u001b[39m, \u001b[39m2.3\u001b[39m, \u001b[39m-\u001b[39m\u001b[39m1\u001b[39m], [\u001b[39m4.5\u001b[39m, \u001b[39m2.3\u001b[39m, \u001b[39m1\u001b[39m]], \n\u001b[1;32m      <a href='vscode-notebook-cell:/home/migue/Documents/Migue/DiTella/modeladorGrafos/tests_gen.ipynb#ch0000018?line=1'>2</a>\u001b[0m                   [\u001b[39m0.7\u001b[39m, \u001b[39m0.75\u001b[39m, \u001b[39m0.8\u001b[39m, \u001b[39m.7\u001b[39m, \u001b[39m.7\u001b[39m, \u001b[39m.7\u001b[39m, \u001b[39m.7\u001b[39m], \n\u001b[1;32m      <a href='vscode-notebook-cell:/home/migue/Documents/Migue/DiTella/modeladorGrafos/tests_gen.ipynb#ch0000018?line=2'>3</a>\u001b[0m                   [(\u001b[39m0\u001b[39m,\u001b[39m1\u001b[39m), (\u001b[39m1\u001b[39m,\u001b[39m2\u001b[39m), (\u001b[39m2\u001b[39m,\u001b[39m3\u001b[39m), (\u001b[39m2\u001b[39m,\u001b[39m4\u001b[39m), (\u001b[39m3\u001b[39m,\u001b[39m5\u001b[39m), (\u001b[39m4\u001b[39m,\u001b[39m6\u001b[39m), (\u001b[39m3\u001b[39m,\u001b[39m7\u001b[39m), (\u001b[39m3\u001b[39m,\u001b[39m8\u001b[39m)])\n\u001b[1;32m      <a href='vscode-notebook-cell:/home/migue/Documents/Migue/DiTella/modeladorGrafos/tests_gen.ipynb#ch0000018?line=3'>4</a>\u001b[0m GC \u001b[39m=\u001b[39m GrafoCentros( G )\n\u001b[0;32m----> <a href='vscode-notebook-cell:/home/migue/Documents/Migue/DiTella/modeladorGrafos/tests_gen.ipynb#ch0000018?line=4'>5</a>\u001b[0m GC\u001b[39m.\u001b[39;49mtile()\n\u001b[1;32m      <a href='vscode-notebook-cell:/home/migue/Documents/Migue/DiTella/modeladorGrafos/tests_gen.ipynb#ch0000018?line=6'>7</a>\u001b[0m p \u001b[39m=\u001b[39m mp\u001b[39m.\u001b[39mplot( GC\u001b[39m.\u001b[39mmesh\u001b[39m.\u001b[39mgetVertices(), GC\u001b[39m.\u001b[39mmesh\u001b[39m.\u001b[39mgetCaras(), c\u001b[39m=\u001b[39mnp\u001b[39m.\u001b[39marray([\u001b[39m0.7\u001b[39m, \u001b[39m0.0\u001b[39m, \u001b[39m0.0\u001b[39m]), shading\u001b[39m=\u001b[39mshading, return_plot\u001b[39m=\u001b[39m\u001b[39mTrue\u001b[39;00m)\n\u001b[1;32m      <a href='vscode-notebook-cell:/home/migue/Documents/Migue/DiTella/modeladorGrafos/tests_gen.ipynb#ch0000018?line=7'>8</a>\u001b[0m p\u001b[39m.\u001b[39madd_points( GC\u001b[39m.\u001b[39mmesh\u001b[39m.\u001b[39mgetVertices(), shading\u001b[39m=\u001b[39mshading)\n",
      "File \u001b[0;32m~/Documents/Migue/DiTella/modeladorGrafos/modelador.py:31\u001b[0m, in \u001b[0;36mGrafoCentros.tile\u001b[0;34m(self)\u001b[0m\n\u001b[1;32m     <a href='file:///home/migue/Documents/Migue/DiTella/modeladorGrafos/modelador.py?line=27'>28</a>\u001b[0m         \u001b[39mbreak\u001b[39;00m\n\u001b[1;32m     <a href='file:///home/migue/Documents/Migue/DiTella/modeladorGrafos/modelador.py?line=29'>30</a>\u001b[0m cola \u001b[39m=\u001b[39m \u001b[39mset\u001b[39m()\n\u001b[0;32m---> <a href='file:///home/migue/Documents/Migue/DiTella/modeladorGrafos/modelador.py?line=30'>31</a>\u001b[0m \u001b[39mself\u001b[39;49m\u001b[39m.\u001b[39;49mprocesarTile( nodoInicial, cola )\n",
      "File \u001b[0;32m~/Documents/Migue/DiTella/modeladorGrafos/modelador.py:40\u001b[0m, in \u001b[0;36mGrafoCentros.procesarTile\u001b[0;34m(self, nodo, cola)\u001b[0m\n\u001b[1;32m     <a href='file:///home/migue/Documents/Migue/DiTella/modeladorGrafos/modelador.py?line=37'>38</a>\u001b[0m     \u001b[39m#self.mesh.agregarCuadrado( nodo, normalCuadrado, Vec3(0.3,0.5,1).projectToPlane(normalCuadrado).normalizar() )       \u001b[39;00m\n\u001b[1;32m     <a href='file:///home/migue/Documents/Migue/DiTella/modeladorGrafos/modelador.py?line=38'>39</a>\u001b[0m     \u001b[39mself\u001b[39m\u001b[39m.\u001b[39mmesh\u001b[39m.\u001b[39mtileTrivially( nodo, vecinoAProcesar )\n\u001b[0;32m---> <a href='file:///home/migue/Documents/Migue/DiTella/modeladorGrafos/modelador.py?line=39'>40</a>\u001b[0m     \u001b[39mself\u001b[39;49m\u001b[39m.\u001b[39;49mprocesarTile( vecinoAProcesar, cola )\n\u001b[1;32m     <a href='file:///home/migue/Documents/Migue/DiTella/modeladorGrafos/modelador.py?line=41'>42</a>\u001b[0m \u001b[39melse\u001b[39;00m:\n\u001b[1;32m     <a href='file:///home/migue/Documents/Migue/DiTella/modeladorGrafos/modelador.py?line=42'>43</a>\u001b[0m     vecinosAProcesar \u001b[39m=\u001b[39m \u001b[39mself\u001b[39m\u001b[39m.\u001b[39mvecinosAProcesar(nodo)\n",
      "File \u001b[0;32m~/Documents/Migue/DiTella/modeladorGrafos/modelador.py:58\u001b[0m, in \u001b[0;36mGrafoCentros.procesarTile\u001b[0;34m(self, nodo, cola)\u001b[0m\n\u001b[1;32m     <a href='file:///home/migue/Documents/Migue/DiTella/modeladorGrafos/modelador.py?line=54'>55</a>\u001b[0m         vecinosFwd, vecinosBwd \u001b[39m=\u001b[39m \u001b[39mself\u001b[39m\u001b[39m.\u001b[39mclasificarVecinosFwdBwd( nodo, vecinoAProcesar )\n\u001b[1;32m     <a href='file:///home/migue/Documents/Migue/DiTella/modeladorGrafos/modelador.py?line=55'>56</a>\u001b[0m         cola \u001b[39m=\u001b[39m \u001b[39mself\u001b[39m\u001b[39m.\u001b[39mmesh\u001b[39m.\u001b[39mtileJoint( nodo, vecinoAProcesar, vecinosBwd, \u001b[39mNone\u001b[39;00m, cola )\n\u001b[0;32m---> <a href='file:///home/migue/Documents/Migue/DiTella/modeladorGrafos/modelador.py?line=57'>58</a>\u001b[0m         \u001b[39mself\u001b[39;49m\u001b[39m.\u001b[39;49mprocesarTile( vecinoAProcesar, cola )\n\u001b[1;32m     <a href='file:///home/migue/Documents/Migue/DiTella/modeladorGrafos/modelador.py?line=59'>60</a>\u001b[0m \u001b[39melse\u001b[39;00m: \u001b[39m# osea tengo mas de un vecino a procesar... significa que tengo que unirlos forward!\u001b[39;00m\n\u001b[1;32m     <a href='file:///home/migue/Documents/Migue/DiTella/modeladorGrafos/modelador.py?line=60'>61</a>\u001b[0m     vecinosAProcesar \u001b[39m=\u001b[39m \u001b[39mself\u001b[39m\u001b[39m.\u001b[39mvecinosAProcesar(nodo)\n",
      "File \u001b[0;32m~/Documents/Migue/DiTella/modeladorGrafos/modelador.py:70\u001b[0m, in \u001b[0;36mGrafoCentros.procesarTile\u001b[0;34m(self, nodo, cola)\u001b[0m\n\u001b[1;32m     <a href='file:///home/migue/Documents/Migue/DiTella/modeladorGrafos/modelador.py?line=67'>68</a>\u001b[0m vecinosAProcesar\u001b[39m.\u001b[39mremove( vecinoFwdMasCercano )\n\u001b[1;32m     <a href='file:///home/migue/Documents/Migue/DiTella/modeladorGrafos/modelador.py?line=68'>69</a>\u001b[0m \u001b[39mself\u001b[39m\u001b[39m.\u001b[39mpasarVecinosANodo( nodo, vecinoFwdMasCercano, vecinosAProcesar)\n\u001b[0;32m---> <a href='file:///home/migue/Documents/Migue/DiTella/modeladorGrafos/modelador.py?line=69'>70</a>\u001b[0m \u001b[39mself\u001b[39;49m\u001b[39m.\u001b[39;49mprocesarTile( nodo, cola )\n",
      "File \u001b[0;32m~/Documents/Migue/DiTella/modeladorGrafos/modelador.py:58\u001b[0m, in \u001b[0;36mGrafoCentros.procesarTile\u001b[0;34m(self, nodo, cola)\u001b[0m\n\u001b[1;32m     <a href='file:///home/migue/Documents/Migue/DiTella/modeladorGrafos/modelador.py?line=54'>55</a>\u001b[0m         vecinosFwd, vecinosBwd \u001b[39m=\u001b[39m \u001b[39mself\u001b[39m\u001b[39m.\u001b[39mclasificarVecinosFwdBwd( nodo, vecinoAProcesar )\n\u001b[1;32m     <a href='file:///home/migue/Documents/Migue/DiTella/modeladorGrafos/modelador.py?line=55'>56</a>\u001b[0m         cola \u001b[39m=\u001b[39m \u001b[39mself\u001b[39m\u001b[39m.\u001b[39mmesh\u001b[39m.\u001b[39mtileJoint( nodo, vecinoAProcesar, vecinosBwd, \u001b[39mNone\u001b[39;00m, cola )\n\u001b[0;32m---> <a href='file:///home/migue/Documents/Migue/DiTella/modeladorGrafos/modelador.py?line=57'>58</a>\u001b[0m         \u001b[39mself\u001b[39;49m\u001b[39m.\u001b[39;49mprocesarTile( vecinoAProcesar, cola )\n\u001b[1;32m     <a href='file:///home/migue/Documents/Migue/DiTella/modeladorGrafos/modelador.py?line=59'>60</a>\u001b[0m \u001b[39melse\u001b[39;00m: \u001b[39m# osea tengo mas de un vecino a procesar... significa que tengo que unirlos forward!\u001b[39;00m\n\u001b[1;32m     <a href='file:///home/migue/Documents/Migue/DiTella/modeladorGrafos/modelador.py?line=60'>61</a>\u001b[0m     vecinosAProcesar \u001b[39m=\u001b[39m \u001b[39mself\u001b[39m\u001b[39m.\u001b[39mvecinosAProcesar(nodo)\n",
      "File \u001b[0;32m~/Documents/Migue/DiTella/modeladorGrafos/modelador.py:52\u001b[0m, in \u001b[0;36mGrafoCentros.procesarTile\u001b[0;34m(self, nodo, cola)\u001b[0m\n\u001b[1;32m     <a href='file:///home/migue/Documents/Migue/DiTella/modeladorGrafos/modelador.py?line=49'>50</a>\u001b[0m \u001b[39melif\u001b[39;00m \u001b[39mself\u001b[39m\u001b[39m.\u001b[39mgradoNodo(vecinoAProcesar) \u001b[39m==\u001b[39m \u001b[39m2\u001b[39m:\n\u001b[1;32m     <a href='file:///home/migue/Documents/Migue/DiTella/modeladorGrafos/modelador.py?line=50'>51</a>\u001b[0m     \u001b[39mself\u001b[39m\u001b[39m.\u001b[39mmesh\u001b[39m.\u001b[39mtileTrivially( nodo, vecinoAProcesar )\n\u001b[0;32m---> <a href='file:///home/migue/Documents/Migue/DiTella/modeladorGrafos/modelador.py?line=51'>52</a>\u001b[0m     \u001b[39mself\u001b[39;49m\u001b[39m.\u001b[39;49mprocesarTile( vecinoAProcesar, cola )\n\u001b[1;32m     <a href='file:///home/migue/Documents/Migue/DiTella/modeladorGrafos/modelador.py?line=52'>53</a>\u001b[0m \u001b[39melse\u001b[39;00m:\n\u001b[1;32m     <a href='file:///home/migue/Documents/Migue/DiTella/modeladorGrafos/modelador.py?line=53'>54</a>\u001b[0m     \u001b[39mself\u001b[39m\u001b[39m.\u001b[39mgenerarIntermediosAJoint( nodo, vecinoAProcesar )\n",
      "File \u001b[0;32m~/Documents/Migue/DiTella/modeladorGrafos/modelador.py:55\u001b[0m, in \u001b[0;36mGrafoCentros.procesarTile\u001b[0;34m(self, nodo, cola)\u001b[0m\n\u001b[1;32m     <a href='file:///home/migue/Documents/Migue/DiTella/modeladorGrafos/modelador.py?line=52'>53</a>\u001b[0m \u001b[39melse\u001b[39;00m:\n\u001b[1;32m     <a href='file:///home/migue/Documents/Migue/DiTella/modeladorGrafos/modelador.py?line=53'>54</a>\u001b[0m     \u001b[39mself\u001b[39m\u001b[39m.\u001b[39mgenerarIntermediosAJoint( nodo, vecinoAProcesar )\n\u001b[0;32m---> <a href='file:///home/migue/Documents/Migue/DiTella/modeladorGrafos/modelador.py?line=54'>55</a>\u001b[0m     vecinosFwd, vecinosBwd \u001b[39m=\u001b[39m \u001b[39mself\u001b[39;49m\u001b[39m.\u001b[39;49mclasificarVecinosFwdBwd( nodo, vecinoAProcesar )\n\u001b[1;32m     <a href='file:///home/migue/Documents/Migue/DiTella/modeladorGrafos/modelador.py?line=55'>56</a>\u001b[0m     cola \u001b[39m=\u001b[39m \u001b[39mself\u001b[39m\u001b[39m.\u001b[39mmesh\u001b[39m.\u001b[39mtileJoint( nodo, vecinoAProcesar, vecinosBwd, \u001b[39mNone\u001b[39;00m, cola )\n\u001b[1;32m     <a href='file:///home/migue/Documents/Migue/DiTella/modeladorGrafos/modelador.py?line=57'>58</a>\u001b[0m     \u001b[39mself\u001b[39m\u001b[39m.\u001b[39mprocesarTile( vecinoAProcesar, cola )\n",
      "File \u001b[0;32m~/Documents/Migue/DiTella/modeladorGrafos/modelador.py:116\u001b[0m, in \u001b[0;36mGrafoCentros.clasificarVecinosFwdBwd\u001b[0;34m(self, nodoFrom, nodoJoint)\u001b[0m\n\u001b[1;32m    <a href='file:///home/migue/Documents/Migue/DiTella/modeladorGrafos/modelador.py?line=113'>114</a>\u001b[0m \u001b[39mdef\u001b[39;00m \u001b[39mclasificarVecinosFwdBwd\u001b[39m( \u001b[39mself\u001b[39m, nodoFrom, nodoJoint ):\n\u001b[1;32m    <a href='file:///home/migue/Documents/Migue/DiTella/modeladorGrafos/modelador.py?line=114'>115</a>\u001b[0m     fwd, bwd \u001b[39m=\u001b[39m [], []\n\u001b[0;32m--> <a href='file:///home/migue/Documents/Migue/DiTella/modeladorGrafos/modelador.py?line=115'>116</a>\u001b[0m     nAvg \u001b[39m=\u001b[39m \u001b[39mself\u001b[39;49m\u001b[39m.\u001b[39;49mplanoPromedioJoint( nodoFrom, nodoJoint )\n\u001b[1;32m    <a href='file:///home/migue/Documents/Migue/DiTella/modeladorGrafos/modelador.py?line=116'>117</a>\u001b[0m     \u001b[39mfor\u001b[39;00m vecino \u001b[39min\u001b[39;00m \u001b[39mself\u001b[39m\u001b[39m.\u001b[39mvecinos( nodoJoint ):\n\u001b[1;32m    <a href='file:///home/migue/Documents/Migue/DiTella/modeladorGrafos/modelador.py?line=117'>118</a>\u001b[0m         \u001b[39mif\u001b[39;00m vecino \u001b[39m!=\u001b[39m nodoFrom:\n",
      "File \u001b[0;32m~/Documents/Migue/DiTella/modeladorGrafos/modelador.py:111\u001b[0m, in \u001b[0;36mGrafoCentros.planoPromedioJoint\u001b[0;34m(self, nodoFrom, nodoJoint)\u001b[0m\n\u001b[1;32m    <a href='file:///home/migue/Documents/Migue/DiTella/modeladorGrafos/modelador.py?line=107'>108</a>\u001b[0m nIn \u001b[39m=\u001b[39m \u001b[39mself\u001b[39m\u001b[39m.\u001b[39mdireccion( nodoFrom, nodoJoint )\n\u001b[1;32m    <a href='file:///home/migue/Documents/Migue/DiTella/modeladorGrafos/modelador.py?line=108'>109</a>\u001b[0m esPositiva \u001b[39m=\u001b[39m \u001b[39mlambda\u001b[39;00m n: \u001b[39m1\u001b[39m \u001b[39mif\u001b[39;00m n\u001b[39m.\u001b[39mdot(nIn) \u001b[39m>\u001b[39m \u001b[39m0\u001b[39m \u001b[39melse\u001b[39;00m \u001b[39m0\u001b[39m\n\u001b[0;32m--> <a href='file:///home/migue/Documents/Migue/DiTella/modeladorGrafos/modelador.py?line=110'>111</a>\u001b[0m normales \u001b[39m=\u001b[39m [ \u001b[39mself\u001b[39m\u001b[39m.\u001b[39mdireccion( nodoJoint, nodoBifurcacion ) \u001b[39mfor\u001b[39;00m nodoBifurcacion \u001b[39min\u001b[39;00m \u001b[39mself\u001b[39m\u001b[39m.\u001b[39mvecinos( nodoJoint ) \u001b[39mif\u001b[39;00m nodoBifurcacion \u001b[39m!=\u001b[39m nodoFrom ]\n\u001b[1;32m    <a href='file:///home/migue/Documents/Migue/DiTella/modeladorGrafos/modelador.py?line=111'>112</a>\u001b[0m \u001b[39mreturn\u001b[39;00m np\u001b[39m.\u001b[39msum( [ n_i \u001b[39m*\u001b[39m esPositiva( n_i ) \u001b[39mfor\u001b[39;00m n_i \u001b[39min\u001b[39;00m normales ] \u001b[39m+\u001b[39m [ nIn ] )\u001b[39m.\u001b[39mnormalizar()\n",
      "File \u001b[0;32m~/Documents/Migue/DiTella/modeladorGrafos/modelador.py:111\u001b[0m, in \u001b[0;36m<listcomp>\u001b[0;34m(.0)\u001b[0m\n\u001b[1;32m    <a href='file:///home/migue/Documents/Migue/DiTella/modeladorGrafos/modelador.py?line=107'>108</a>\u001b[0m nIn \u001b[39m=\u001b[39m \u001b[39mself\u001b[39m\u001b[39m.\u001b[39mdireccion( nodoFrom, nodoJoint )\n\u001b[1;32m    <a href='file:///home/migue/Documents/Migue/DiTella/modeladorGrafos/modelador.py?line=108'>109</a>\u001b[0m esPositiva \u001b[39m=\u001b[39m \u001b[39mlambda\u001b[39;00m n: \u001b[39m1\u001b[39m \u001b[39mif\u001b[39;00m n\u001b[39m.\u001b[39mdot(nIn) \u001b[39m>\u001b[39m \u001b[39m0\u001b[39m \u001b[39melse\u001b[39;00m \u001b[39m0\u001b[39m\n\u001b[0;32m--> <a href='file:///home/migue/Documents/Migue/DiTella/modeladorGrafos/modelador.py?line=110'>111</a>\u001b[0m normales \u001b[39m=\u001b[39m [ \u001b[39mself\u001b[39;49m\u001b[39m.\u001b[39;49mdireccion( nodoJoint, nodoBifurcacion ) \u001b[39mfor\u001b[39;00m nodoBifurcacion \u001b[39min\u001b[39;00m \u001b[39mself\u001b[39m\u001b[39m.\u001b[39mvecinos( nodoJoint ) \u001b[39mif\u001b[39;00m nodoBifurcacion \u001b[39m!=\u001b[39m nodoFrom ]\n\u001b[1;32m    <a href='file:///home/migue/Documents/Migue/DiTella/modeladorGrafos/modelador.py?line=111'>112</a>\u001b[0m \u001b[39mreturn\u001b[39;00m np\u001b[39m.\u001b[39msum( [ n_i \u001b[39m*\u001b[39m esPositiva( n_i ) \u001b[39mfor\u001b[39;00m n_i \u001b[39min\u001b[39;00m normales ] \u001b[39m+\u001b[39m [ nIn ] )\u001b[39m.\u001b[39mnormalizar()\n",
      "File \u001b[0;32m~/Documents/Migue/DiTella/modeladorGrafos/modelador.py:131\u001b[0m, in \u001b[0;36mGrafoCentros.direccion\u001b[0;34m(self, nodoFrom, nodoTo)\u001b[0m\n\u001b[1;32m    <a href='file:///home/migue/Documents/Migue/DiTella/modeladorGrafos/modelador.py?line=129'>130</a>\u001b[0m \u001b[39mdef\u001b[39;00m \u001b[39mdireccion\u001b[39m( \u001b[39mself\u001b[39m, nodoFrom, nodoTo ):\n\u001b[0;32m--> <a href='file:///home/migue/Documents/Migue/DiTella/modeladorGrafos/modelador.py?line=130'>131</a>\u001b[0m     \u001b[39mreturn\u001b[39;00m \u001b[39mself\u001b[39m\u001b[39m.\u001b[39mposicionNodo( nodoFrom )\u001b[39m.\u001b[39mdirTo( \u001b[39mself\u001b[39;49m\u001b[39m.\u001b[39;49mposicionNodo(nodoTo) )\n",
      "File \u001b[0;32m~/Documents/Migue/DiTella/modeladorGrafos/modelador.py:162\u001b[0m, in \u001b[0;36mGrafoCentros.posicionNodo\u001b[0;34m(self, nodo)\u001b[0m\n\u001b[1;32m    <a href='file:///home/migue/Documents/Migue/DiTella/modeladorGrafos/modelador.py?line=159'>160</a>\u001b[0m \u001b[39mdef\u001b[39;00m \u001b[39mposicionNodo\u001b[39m( \u001b[39mself\u001b[39m, nodo ):\n\u001b[1;32m    <a href='file:///home/migue/Documents/Migue/DiTella/modeladorGrafos/modelador.py?line=160'>161</a>\u001b[0m     \u001b[39m# cuando arme el nodo pongo la posicion como un Vec3\u001b[39;00m\n\u001b[0;32m--> <a href='file:///home/migue/Documents/Migue/DiTella/modeladorGrafos/modelador.py?line=161'>162</a>\u001b[0m     \u001b[39mreturn\u001b[39;00m nx\u001b[39m.\u001b[39;49mget_node_attributes( \u001b[39mself\u001b[39;49m\u001b[39m.\u001b[39;49mG, \u001b[39m'\u001b[39;49m\u001b[39mposicion\u001b[39;49m\u001b[39m'\u001b[39;49m )[nodo]\n",
      "\u001b[0;31mKeyError\u001b[0m: 7"
     ]
    }
   ],
   "source": [
    "G = generarGrafo( [ [0,0,0], [1,0,0], [2,0,0], [3, 1, 0], [3, -1, 0], [3.8, 1.8, 0], [3.8, -1.8, 0], [4.5, 2.3, -1], [4.5, 2.3, 1]], \n",
    "                  [0.7, 0.75, 0.8, .7, .7, .7, .7, .7, .7], \n",
    "                  [(0,1), (1,2), (2,3), (2,4), (3,5), (4,6), (3,7), (3,8)])\n",
    "GC = GrafoCentros( G )\n",
    "GC.tile()\n",
    "\n",
    "p = mp.plot( GC.mesh.getVertices(), GC.mesh.getCaras(), c=np.array([0.7, 0.0, 0.0]), shading=shading, return_plot=True)\n",
    "p.add_points( GC.mesh.getVertices(), shading=shading)"
   ]
  }
 ],
 "metadata": {
  "interpreter": {
   "hash": "eb39dedddd96e042909f6d2defbd179a23d2732cde05673458392b8d1ef182a1"
  },
  "kernelspec": {
   "display_name": "Python 3.10.4 ('graficos')",
   "language": "python",
   "name": "python3"
  },
  "language_info": {
   "codemirror_mode": {
    "name": "ipython",
    "version": 3
   },
   "file_extension": ".py",
   "mimetype": "text/x-python",
   "name": "python",
   "nbconvert_exporter": "python",
   "pygments_lexer": "ipython3",
   "version": "3.9.12"
  }
 },
 "nbformat": 4,
 "nbformat_minor": 2
}
