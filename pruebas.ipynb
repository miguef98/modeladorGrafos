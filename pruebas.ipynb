{
 "cells": [
  {
   "cell_type": "code",
   "execution_count": 11,
   "metadata": {},
   "outputs": [
    {
     "name": "stdout",
     "output_type": "stream",
     "text": [
      "[4]\n",
      "20\n"
     ]
    },
    {
     "ename": "KeyError",
     "evalue": "'attr3'",
     "output_type": "error",
     "traceback": [
      "\u001b[0;31m---------------------------------------------------------------------------\u001b[0m",
      "\u001b[0;31mKeyError\u001b[0m                                  Traceback (most recent call last)",
      "\u001b[1;32m/home/migue/Documentos/Migue/DiTella/Modelador_Grafos/pruebas.ipynb Cell 1'\u001b[0m in \u001b[0;36m<cell line: 27>\u001b[0;34m()\u001b[0m\n\u001b[1;32m     <a href='vscode-notebook-cell:/home/migue/Documentos/Migue/DiTella/Modelador_Grafos/pruebas.ipynb#ch0000000?line=22'>23</a>\u001b[0m \u001b[39mprint\u001b[39m(G\u001b[39m.\u001b[39mget_edge_data(\u001b[39m1\u001b[39m,\u001b[39m2\u001b[39m)[\u001b[39m'\u001b[39m\u001b[39mattr1\u001b[39m\u001b[39m'\u001b[39m])\n\u001b[1;32m     <a href='vscode-notebook-cell:/home/migue/Documentos/Migue/DiTella/Modelador_Grafos/pruebas.ipynb#ch0000000?line=24'>25</a>\u001b[0m nx\u001b[39m.\u001b[39mset_edge_attributes(G, {(\u001b[39m1\u001b[39m,\u001b[39m2\u001b[39m):{\u001b[39m'\u001b[39m\u001b[39mattr1\u001b[39m\u001b[39m'\u001b[39m: \u001b[39m2\u001b[39m}})\n\u001b[0;32m---> <a href='vscode-notebook-cell:/home/migue/Documentos/Migue/DiTella/Modelador_Grafos/pruebas.ipynb#ch0000000?line=26'>27</a>\u001b[0m \u001b[39mprint\u001b[39m(G\u001b[39m.\u001b[39;49mget_edge_data(\u001b[39m1\u001b[39;49m,\u001b[39m2\u001b[39;49m)[\u001b[39m'\u001b[39;49m\u001b[39mattr3\u001b[39;49m\u001b[39m'\u001b[39;49m])\n",
      "\u001b[0;31mKeyError\u001b[0m: 'attr3'"
     ]
    }
   ],
   "source": [
    "import networkx as nx\n",
    "\n",
    "def aristas( grafo, nodo ):\n",
    "    return ( list(arista)[1] for arista in grafo.edges(nodo) )\n",
    "\n",
    "def iesimaArista( grafo, nodo, i ):\n",
    "    return list(aristas( grafo, nodo ))[i]\n",
    "\n",
    "G = nx.Graph()\n",
    "\n",
    "G.add_nodes_from( [1,2,3,4])\n",
    "attrs = {(1, 2): {\"attr1\": 20, \"attr2\": \"nothing\"}, (2, 3): {\"attr2\": 3}}\n",
    "G.add_edges_from( [(1,2), (2,3), (3,4)])\n",
    "nx.set_edge_attributes(G, attrs)\n",
    "cola = []\n",
    "\n",
    "nodo = 2\n",
    "nodoDesde = 1\n",
    "[[ cola.append( nieto ) for nieto in aristas( G, hijo ) if nieto != nodo ] for hijo in aristas(G, nodo) if hijo != nodoDesde ]\n",
    "\n",
    "print(cola)\n",
    "\n",
    "print(G.get_edge_data(1,2)['attr1'])\n",
    "\n",
    "nx.set_edge_attributes(G, {(1,2):{'attr1': 2}})\n",
    "\n",
    "print(G.get_edge_data(1,2)['attr3'])\n"
   ]
  }
 ],
 "metadata": {
  "interpreter": {
   "hash": "bd6d6e8462a2ed5f833ffd2580e026682599e301b1f9c7cf95ececb99e028194"
  },
  "kernelspec": {
   "display_name": "Python 3.9.7 ('base')",
   "language": "python",
   "name": "python3"
  },
  "language_info": {
   "codemirror_mode": {
    "name": "ipython",
    "version": 3
   },
   "file_extension": ".py",
   "mimetype": "text/x-python",
   "name": "python",
   "nbconvert_exporter": "python",
   "pygments_lexer": "ipython3",
   "version": "3.9.7"
  },
  "orig_nbformat": 4
 },
 "nbformat": 4,
 "nbformat_minor": 2
}
