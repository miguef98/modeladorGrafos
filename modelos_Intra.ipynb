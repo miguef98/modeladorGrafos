{
 "cells": [
  {
   "cell_type": "code",
   "execution_count": 1,
   "metadata": {},
   "outputs": [],
   "source": [
    "import numpy as np\n",
    "import meshplot as mp\n",
    "import networkx as nx\n",
    "import sys\n",
    "\n",
    "from src.mesh_gen import vec3\n",
    "sys.modules['vec3'] = vec3\n",
    "from vec3 import Vec3\n",
    "from src.mesh_gen.modelador import GrafoCentros"
   ]
  },
  {
   "cell_type": "code",
   "execution_count": 2,
   "metadata": {},
   "outputs": [],
   "source": [
    "def prepararAristas( grafo ):\n",
    "    for arista in grafo.edges():\n",
    "        nx.set_edge_attributes( grafo, {arista : {'procesada':False}})\n",
    "\n",
    "def armarGrafo( file ):\n",
    "    grafo = nx.read_gpickle(file)\n",
    "    prepararAristas(grafo)\n",
    "    return GrafoCentros( grafo )\n",
    "\n",
    "shading = { 'width': 500, 'height': 400, 'bbox':True, 'point_size': 1,\"side\": \"DoubleSide\" }"
   ]
  },
  {
   "cell_type": "code",
   "execution_count": 3,
   "metadata": {},
   "outputs": [],
   "source": [
    "MODELO = \"models/grafos/ArteryObjAN1-5-grafo.gpickle\""
   ]
  },
  {
   "cell_type": "code",
   "execution_count": 2,
   "metadata": {},
   "outputs": [
    {
     "name": "stderr",
     "output_type": "stream",
     "text": [
      "/home/migue/miniconda3/envs/graficos/lib/python3.10/site-packages/jupyter_client/session.py:718: UserWarning: Message serialization failed with:\n",
      "Out of range float values are not JSON compliant\n",
      "Supporting this message is deprecated in jupyter-client 7, please make sure your message is JSON-compliant\n",
      "  content = self.pack(content)\n"
     ]
    },
    {
     "data": {
      "application/vnd.jupyter.widget-view+json": {
       "model_id": "c1d5f7b53f4d468f8d8597988af42579",
       "version_major": 2,
       "version_minor": 0
      },
      "text/plain": [
       "Renderer(camera=PerspectiveCamera(children=(DirectionalLight(color='white', intensity=0.6, position=(-32.96699…"
      ]
     },
     "metadata": {},
     "output_type": "display_data"
    }
   ],
   "source": [
    "import numpy as np\n",
    "import meshplot as mp\n",
    "import networkx as nx\n",
    "\n",
    "import sys\n",
    "\n",
    "from src.mesh_gen import vec3\n",
    "sys.modules['vec3'] = vec3\n",
    "from vec3 import Vec3\n",
    "\n",
    "MODELO = \"models/grafos/ArteryObjAN1-5-grafo.gpickle\"\n",
    "grafo = nx.read_gpickle(MODELO)\n",
    "\n",
    "posiciones = nx.get_node_attributes( grafo, 'posicion')\n",
    "p = mp.plot( np.array([ posiciones[node].toNumpy() for node in grafo.nodes]), return_plot=True, shading={'point_size':4})\n",
    "\n",
    "for arista in grafo.edges:\n",
    "    p.add_lines( grafo.nodes[arista[0]]['posicion'].toNumpy(), grafo.nodes[arista[1]]['posicion'].toNumpy())"
   ]
  },
  {
   "cell_type": "code",
   "execution_count": null,
   "metadata": {},
   "outputs": [],
   "source": [
    "GC.tile()\n",
    "GC.subdivide(2)\n",
    "p = mp.plot( GC.getVertices(), GC.getCaras(), c=np.array([0.7, 0.0, 0.0]), shading=shading, return_plot=True)\n",
    "p.add_points( GC.getVertices(), shading=shading)"
   ]
  },
  {
   "cell_type": "code",
   "execution_count": 4,
   "metadata": {},
   "outputs": [
    {
     "name": "stderr",
     "output_type": "stream",
     "text": [
      "/home/migue/Documents/Modelador_Grafos/src/mesh_gen/modelador.py:314: IntegrationWarning: The maximum number of subdivisions (50) has been achieved.\n",
      "  If increasing the limit yields no improvement it is advised to analyze \n",
      "  the integrand in order to determine the difficulties.  If the position of a \n",
      "  local difficulty can be determined (singularity, discontinuity) one will \n",
      "  probably gain from splitting up the interval and calling the integrator \n",
      "  on the subranges.  Perhaps a special-purpose integrator should be used.\n",
      "  integral = integrate.quad(h, 0, 1)\n",
      "/home/migue/Documents/Modelador_Grafos/src/mesh_gen/modelador.py:314: IntegrationWarning: The maximum number of subdivisions (50) has been achieved.\n",
      "  If increasing the limit yields no improvement it is advised to analyze \n",
      "  the integrand in order to determine the difficulties.  If the position of a \n",
      "  local difficulty can be determined (singularity, discontinuity) one will \n",
      "  probably gain from splitting up the interval and calling the integrator \n",
      "  on the subranges.  Perhaps a special-purpose integrator should be used.\n",
      "  integral = integrate.quad(h, 0, 1)\n"
     ]
    },
    {
     "ename": "IndexError",
     "evalue": "index 1 is out of bounds for axis 0 with size 1",
     "output_type": "error",
     "traceback": [
      "\u001b[0;31m---------------------------------------------------------------------------\u001b[0m",
      "\u001b[0;31mIndexError\u001b[0m                                Traceback (most recent call last)",
      "\u001b[1;32m/home/migue/Documents/Modelador_Grafos/modelos_Intra.ipynb Cell 6\u001b[0m in \u001b[0;36m<cell line: 2>\u001b[0;34m()\u001b[0m\n\u001b[1;32m      <a href='vscode-notebook-cell:/home/migue/Documents/Modelador_Grafos/modelos_Intra.ipynb#ch0000005?line=0'>1</a>\u001b[0m GC \u001b[39m=\u001b[39m armarGrafo(MODELO)\n\u001b[0;32m----> <a href='vscode-notebook-cell:/home/migue/Documents/Modelador_Grafos/modelos_Intra.ipynb#ch0000005?line=1'>2</a>\u001b[0m GC\u001b[39m.\u001b[39;49mresamplear()\n\u001b[1;32m      <a href='vscode-notebook-cell:/home/migue/Documents/Modelador_Grafos/modelos_Intra.ipynb#ch0000005?line=3'>4</a>\u001b[0m p \u001b[39m=\u001b[39m mp\u001b[39m.\u001b[39mplot(np\u001b[39m.\u001b[39marray([\u001b[39m0\u001b[39m,\u001b[39m0\u001b[39m,\u001b[39m0\u001b[39m]), return_plot\u001b[39m=\u001b[39m\u001b[39mTrue\u001b[39;00m)\n\u001b[1;32m      <a href='vscode-notebook-cell:/home/migue/Documents/Modelador_Grafos/modelos_Intra.ipynb#ch0000005?line=4'>5</a>\u001b[0m \u001b[39mfor\u001b[39;00m cconexa \u001b[39min\u001b[39;00m nx\u001b[39m.\u001b[39mconnected_components(GC\u001b[39m.\u001b[39mG):\n",
      "File \u001b[0;32m~/Documents/Modelador_Grafos/src/mesh_gen/modelador.py:259\u001b[0m, in \u001b[0;36mGrafoCentros.resamplear\u001b[0;34m(self, alpha, beta, w)\u001b[0m\n\u001b[1;32m    256\u001b[0m diccionarioRamas \u001b[39m=\u001b[39m nx\u001b[39m.\u001b[39mget_edge_attributes(grafoRamas, \u001b[39m'\u001b[39m\u001b[39mrama\u001b[39m\u001b[39m'\u001b[39m)\n\u001b[1;32m    258\u001b[0m \u001b[39mfor\u001b[39;00m edge \u001b[39min\u001b[39;00m grafoRamas\u001b[39m.\u001b[39medges:\n\u001b[0;32m--> 259\u001b[0m     \u001b[39mself\u001b[39;49m\u001b[39m.\u001b[39;49mresamplearRama( diccionarioRamas[edge], alpha, beta, w )\n\u001b[1;32m    261\u001b[0m \u001b[39mself\u001b[39m\u001b[39m.\u001b[39mG \u001b[39m=\u001b[39m nx\u001b[39m.\u001b[39mconvert_node_labels_to_integers( \u001b[39mself\u001b[39m\u001b[39m.\u001b[39mG )\n",
      "File \u001b[0;32m~/Documents/Modelador_Grafos/src/mesh_gen/modelador.py:301\u001b[0m, in \u001b[0;36mGrafoCentros.resamplearRama\u001b[0;34m(self, listaNodos, alpha, beta, w)\u001b[0m\n\u001b[1;32m    299\u001b[0m paso \u001b[39m=\u001b[39m \u001b[39m1\u001b[39m \u001b[39m/\u001b[39m cantPuntos\n\u001b[1;32m    300\u001b[0m ts \u001b[39m=\u001b[39m np\u001b[39m.\u001b[39mlinspace(\u001b[39m0\u001b[39m \u001b[39m+\u001b[39m paso, \u001b[39m1\u001b[39m \u001b[39m-\u001b[39m paso, cantPuntos)\n\u001b[0;32m--> 301\u001b[0m parametros \u001b[39m=\u001b[39m minimize( costo, ts )        \n\u001b[1;32m    303\u001b[0m \u001b[39mself\u001b[39m\u001b[39m.\u001b[39mactualizarRama( listaNodos, curvaPosicionesInterpolada\u001b[39m.\u001b[39mevaluarLista(parametros\u001b[39m.\u001b[39mx), radiosInterpolados\u001b[39m.\u001b[39mevaluarLista(parametros\u001b[39m.\u001b[39mx) )\n",
      "File \u001b[0;32m~/miniconda3/envs/graficos/lib/python3.10/site-packages/scipy/optimize/_minimize.py:687\u001b[0m, in \u001b[0;36mminimize\u001b[0;34m(fun, x0, args, method, jac, hess, hessp, bounds, constraints, tol, callback, options)\u001b[0m\n\u001b[1;32m    685\u001b[0m     res \u001b[39m=\u001b[39m _minimize_cg(fun, x0, args, jac, callback, \u001b[39m*\u001b[39m\u001b[39m*\u001b[39moptions)\n\u001b[1;32m    686\u001b[0m \u001b[39melif\u001b[39;00m meth \u001b[39m==\u001b[39m \u001b[39m'\u001b[39m\u001b[39mbfgs\u001b[39m\u001b[39m'\u001b[39m:\n\u001b[0;32m--> 687\u001b[0m     res \u001b[39m=\u001b[39m _minimize_bfgs(fun, x0, args, jac, callback, \u001b[39m*\u001b[39;49m\u001b[39m*\u001b[39;49moptions)\n\u001b[1;32m    688\u001b[0m \u001b[39melif\u001b[39;00m meth \u001b[39m==\u001b[39m \u001b[39m'\u001b[39m\u001b[39mnewton-cg\u001b[39m\u001b[39m'\u001b[39m:\n\u001b[1;32m    689\u001b[0m     res \u001b[39m=\u001b[39m _minimize_newtoncg(fun, x0, args, jac, hess, hessp, callback,\n\u001b[1;32m    690\u001b[0m                              \u001b[39m*\u001b[39m\u001b[39m*\u001b[39moptions)\n",
      "File \u001b[0;32m~/miniconda3/envs/graficos/lib/python3.10/site-packages/scipy/optimize/_optimize.py:1296\u001b[0m, in \u001b[0;36m_minimize_bfgs\u001b[0;34m(fun, x0, args, jac, callback, gtol, norm, eps, maxiter, disp, return_all, finite_diff_rel_step, **unknown_options)\u001b[0m\n\u001b[1;32m   1293\u001b[0m \u001b[39mif\u001b[39;00m maxiter \u001b[39mis\u001b[39;00m \u001b[39mNone\u001b[39;00m:\n\u001b[1;32m   1294\u001b[0m     maxiter \u001b[39m=\u001b[39m \u001b[39mlen\u001b[39m(x0) \u001b[39m*\u001b[39m \u001b[39m200\u001b[39m\n\u001b[0;32m-> 1296\u001b[0m sf \u001b[39m=\u001b[39m _prepare_scalar_function(fun, x0, jac, args\u001b[39m=\u001b[39;49margs, epsilon\u001b[39m=\u001b[39;49meps,\n\u001b[1;32m   1297\u001b[0m                               finite_diff_rel_step\u001b[39m=\u001b[39;49mfinite_diff_rel_step)\n\u001b[1;32m   1299\u001b[0m f \u001b[39m=\u001b[39m sf\u001b[39m.\u001b[39mfun\n\u001b[1;32m   1300\u001b[0m myfprime \u001b[39m=\u001b[39m sf\u001b[39m.\u001b[39mgrad\n",
      "File \u001b[0;32m~/miniconda3/envs/graficos/lib/python3.10/site-packages/scipy/optimize/_optimize.py:263\u001b[0m, in \u001b[0;36m_prepare_scalar_function\u001b[0;34m(fun, x0, jac, args, bounds, epsilon, finite_diff_rel_step, hess)\u001b[0m\n\u001b[1;32m    259\u001b[0m     bounds \u001b[39m=\u001b[39m (\u001b[39m-\u001b[39mnp\u001b[39m.\u001b[39minf, np\u001b[39m.\u001b[39minf)\n\u001b[1;32m    261\u001b[0m \u001b[39m# ScalarFunction caches. Reuse of fun(x) during grad\u001b[39;00m\n\u001b[1;32m    262\u001b[0m \u001b[39m# calculation reduces overall function evaluations.\u001b[39;00m\n\u001b[0;32m--> 263\u001b[0m sf \u001b[39m=\u001b[39m ScalarFunction(fun, x0, args, grad, hess,\n\u001b[1;32m    264\u001b[0m                     finite_diff_rel_step, bounds, epsilon\u001b[39m=\u001b[39;49mepsilon)\n\u001b[1;32m    266\u001b[0m \u001b[39mreturn\u001b[39;00m sf\n",
      "File \u001b[0;32m~/miniconda3/envs/graficos/lib/python3.10/site-packages/scipy/optimize/_differentiable_functions.py:158\u001b[0m, in \u001b[0;36mScalarFunction.__init__\u001b[0;34m(self, fun, x0, args, grad, hess, finite_diff_rel_step, finite_diff_bounds, epsilon)\u001b[0m\n\u001b[1;32m    155\u001b[0m     \u001b[39mself\u001b[39m\u001b[39m.\u001b[39mf \u001b[39m=\u001b[39m fun_wrapped(\u001b[39mself\u001b[39m\u001b[39m.\u001b[39mx)\n\u001b[1;32m    157\u001b[0m \u001b[39mself\u001b[39m\u001b[39m.\u001b[39m_update_fun_impl \u001b[39m=\u001b[39m update_fun\n\u001b[0;32m--> 158\u001b[0m \u001b[39mself\u001b[39;49m\u001b[39m.\u001b[39;49m_update_fun()\n\u001b[1;32m    160\u001b[0m \u001b[39m# Gradient evaluation\u001b[39;00m\n\u001b[1;32m    161\u001b[0m \u001b[39mif\u001b[39;00m callable(grad):\n",
      "File \u001b[0;32m~/miniconda3/envs/graficos/lib/python3.10/site-packages/scipy/optimize/_differentiable_functions.py:251\u001b[0m, in \u001b[0;36mScalarFunction._update_fun\u001b[0;34m(self)\u001b[0m\n\u001b[1;32m    249\u001b[0m \u001b[39mdef\u001b[39;00m \u001b[39m_update_fun\u001b[39m(\u001b[39mself\u001b[39m):\n\u001b[1;32m    250\u001b[0m     \u001b[39mif\u001b[39;00m \u001b[39mnot\u001b[39;00m \u001b[39mself\u001b[39m\u001b[39m.\u001b[39mf_updated:\n\u001b[0;32m--> 251\u001b[0m         \u001b[39mself\u001b[39;49m\u001b[39m.\u001b[39;49m_update_fun_impl()\n\u001b[1;32m    252\u001b[0m         \u001b[39mself\u001b[39m\u001b[39m.\u001b[39mf_updated \u001b[39m=\u001b[39m \u001b[39mTrue\u001b[39;00m\n",
      "File \u001b[0;32m~/miniconda3/envs/graficos/lib/python3.10/site-packages/scipy/optimize/_differentiable_functions.py:155\u001b[0m, in \u001b[0;36mScalarFunction.__init__.<locals>.update_fun\u001b[0;34m()\u001b[0m\n\u001b[1;32m    154\u001b[0m \u001b[39mdef\u001b[39;00m \u001b[39mupdate_fun\u001b[39m():\n\u001b[0;32m--> 155\u001b[0m     \u001b[39mself\u001b[39m\u001b[39m.\u001b[39mf \u001b[39m=\u001b[39m fun_wrapped(\u001b[39mself\u001b[39;49m\u001b[39m.\u001b[39;49mx)\n",
      "File \u001b[0;32m~/miniconda3/envs/graficos/lib/python3.10/site-packages/scipy/optimize/_differentiable_functions.py:137\u001b[0m, in \u001b[0;36mScalarFunction.__init__.<locals>.fun_wrapped\u001b[0;34m(x)\u001b[0m\n\u001b[1;32m    133\u001b[0m \u001b[39mself\u001b[39m\u001b[39m.\u001b[39mnfev \u001b[39m+\u001b[39m\u001b[39m=\u001b[39m \u001b[39m1\u001b[39m\n\u001b[1;32m    134\u001b[0m \u001b[39m# Send a copy because the user may overwrite it.\u001b[39;00m\n\u001b[1;32m    135\u001b[0m \u001b[39m# Overwriting results in undefined behaviour because\u001b[39;00m\n\u001b[1;32m    136\u001b[0m \u001b[39m# fun(self.x) will change self.x, with the two no longer linked.\u001b[39;00m\n\u001b[0;32m--> 137\u001b[0m fx \u001b[39m=\u001b[39m fun(np\u001b[39m.\u001b[39;49mcopy(x), \u001b[39m*\u001b[39;49margs)\n\u001b[1;32m    138\u001b[0m \u001b[39m# Make sure the function returns a true scalar\u001b[39;00m\n\u001b[1;32m    139\u001b[0m \u001b[39mif\u001b[39;00m \u001b[39mnot\u001b[39;00m np\u001b[39m.\u001b[39misscalar(fx):\n",
      "File \u001b[0;32m~/Documents/Modelador_Grafos/src/mesh_gen/modelador.py:296\u001b[0m, in \u001b[0;36mGrafoCentros.resamplearRama.<locals>.costo\u001b[0;34m(ts)\u001b[0m\n\u001b[1;32m    289\u001b[0m \u001b[39mdef\u001b[39;00m \u001b[39mCostoSecundario\u001b[39m( xs ):\n\u001b[1;32m    290\u001b[0m     \u001b[39mreturn\u001b[39;00m np\u001b[39m.\u001b[39msum( \n\u001b[1;32m    291\u001b[0m         [ g( xs[\u001b[39m0\u001b[39m], alpha \u001b[39m*\u001b[39m (termino(\u001b[39m0\u001b[39m) \u001b[39m+\u001b[39m termino(xs[\u001b[39m0\u001b[39m])) )]\u001b[39m+\u001b[39m\n\u001b[1;32m    292\u001b[0m         [ g( xs[i\u001b[39m+\u001b[39m\u001b[39m1\u001b[39m] \u001b[39m-\u001b[39m xs[i], alpha\u001b[39m*\u001b[39m (termino(xs[i]) \u001b[39m+\u001b[39m termino(xs[i\u001b[39m+\u001b[39m\u001b[39m1\u001b[39m])) ) \u001b[39mfor\u001b[39;00m i \u001b[39min\u001b[39;00m \u001b[39mrange\u001b[39m(\u001b[39m0\u001b[39m, \u001b[39mlen\u001b[39m(xs)\u001b[39m-\u001b[39m\u001b[39m1\u001b[39m)] \u001b[39m+\u001b[39m\n\u001b[1;32m    293\u001b[0m         [ g( \u001b[39m1\u001b[39m \u001b[39m-\u001b[39m xs[\u001b[39m-\u001b[39m\u001b[39m1\u001b[39m], alpha\u001b[39m*\u001b[39m(termino(xs[\u001b[39m1\u001b[39m]) \u001b[39m+\u001b[39m termino(\u001b[39m1\u001b[39m) ) )] )\n\u001b[0;32m--> 296\u001b[0m \u001b[39mreturn\u001b[39;00m CostoPrincipal( ts ) \u001b[39m+\u001b[39m w \u001b[39m*\u001b[39m CostoSecundario( ts )\n",
      "File \u001b[0;32m~/Documents/Modelador_Grafos/src/mesh_gen/modelador.py:293\u001b[0m, in \u001b[0;36mGrafoCentros.resamplearRama.<locals>.costo.<locals>.CostoSecundario\u001b[0;34m(xs)\u001b[0m\n\u001b[1;32m    289\u001b[0m \u001b[39mdef\u001b[39;00m \u001b[39mCostoSecundario\u001b[39m( xs ):\n\u001b[1;32m    290\u001b[0m     \u001b[39mreturn\u001b[39;00m np\u001b[39m.\u001b[39msum( \n\u001b[1;32m    291\u001b[0m         [ g( xs[\u001b[39m0\u001b[39m], alpha \u001b[39m*\u001b[39m (termino(\u001b[39m0\u001b[39m) \u001b[39m+\u001b[39m termino(xs[\u001b[39m0\u001b[39m])) )]\u001b[39m+\u001b[39m\n\u001b[1;32m    292\u001b[0m         [ g( xs[i\u001b[39m+\u001b[39m\u001b[39m1\u001b[39m] \u001b[39m-\u001b[39m xs[i], alpha\u001b[39m*\u001b[39m (termino(xs[i]) \u001b[39m+\u001b[39m termino(xs[i\u001b[39m+\u001b[39m\u001b[39m1\u001b[39m])) ) \u001b[39mfor\u001b[39;00m i \u001b[39min\u001b[39;00m \u001b[39mrange\u001b[39m(\u001b[39m0\u001b[39m, \u001b[39mlen\u001b[39m(xs)\u001b[39m-\u001b[39m\u001b[39m1\u001b[39m)] \u001b[39m+\u001b[39m\n\u001b[0;32m--> 293\u001b[0m         [ g( \u001b[39m1\u001b[39m \u001b[39m-\u001b[39m xs[\u001b[39m-\u001b[39m\u001b[39m1\u001b[39m], alpha\u001b[39m*\u001b[39m(termino(xs[\u001b[39m1\u001b[39;49m]) \u001b[39m+\u001b[39m termino(\u001b[39m1\u001b[39m) ) )] )\n",
      "\u001b[0;31mIndexError\u001b[0m: index 1 is out of bounds for axis 0 with size 1"
     ]
    }
   ],
   "source": [
    "GC = armarGrafo(MODELO)\n",
    "GC.resamplear()\n",
    "\n",
    "p = mp.plot(np.array([0,0,0]), return_plot=True)\n",
    "for cconexa in nx.connected_components(GC.G):\n",
    "    color = np.tile( np.random.uniform(0, 1, 3), (len(cconexa), 1))\n",
    "    vertices = [GC.G.nodes[i] for i in list(cconexa)]\n",
    "    p.add_points( np.array([ v['posicion'].toNumpy() for v in vertices]), c=color, shading={'point_size':4})\n",
    "\n",
    "for arista in GC.G.edges:\n",
    "    p.add_lines( GC.G.nodes[arista[0]]['posicion'].toNumpy(),GC.G.nodes[arista[1]]['posicion'].toNumpy())#, c=np.array([0,0,1]))"
   ]
  },
  {
   "cell_type": "code",
   "execution_count": null,
   "metadata": {},
   "outputs": [],
   "source": [
    "GC.tile()\n",
    "GC.subdivide(2)\n",
    "p = mp.plot( GC.getVertices(), GC.getCaras(), c=np.array([0.7, 0.0, 0.0]), shading=shading, return_plot=True)\n",
    "p.add_points( GC.getVertices(), shading=shading)"
   ]
  },
  {
   "cell_type": "code",
   "execution_count": null,
   "metadata": {},
   "outputs": [],
   "source": [
    "GC.exportar( \"resultados/grafos/17.off\" )"
   ]
  }
 ],
 "metadata": {
  "kernelspec": {
   "display_name": "Python 3 (ipykernel)",
   "language": "python",
   "name": "python3"
  },
  "language_info": {
   "codemirror_mode": {
    "name": "ipython",
    "version": 3
   },
   "file_extension": ".py",
   "mimetype": "text/x-python",
   "name": "python",
   "nbconvert_exporter": "python",
   "pygments_lexer": "ipython3",
   "version": "3.10.4"
  },
  "vscode": {
   "interpreter": {
    "hash": "eb39dedddd96e042909f6d2defbd179a23d2732cde05673458392b8d1ef182a1"
   }
  }
 },
 "nbformat": 4,
 "nbformat_minor": 2
}
