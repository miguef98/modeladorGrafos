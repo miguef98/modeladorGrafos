{
 "cells": [
  {
   "cell_type": "code",
   "execution_count": 1,
   "metadata": {},
   "outputs": [],
   "source": [
    "import numpy as np\n",
    "import meshplot as mp\n",
    "import networkx as nx\n",
    "import sys\n",
    "\n",
    "from src.mesh_gen import vec3\n",
    "sys.modules['vec3'] = vec3\n",
    "from vec3 import Vec3\n",
    "from src.mesh_gen.modelador import GrafoCentros"
   ]
  },
  {
   "cell_type": "code",
   "execution_count": 2,
   "metadata": {},
   "outputs": [],
   "source": [
    "def prepararAristas( grafo ):\n",
    "    for arista in grafo.edges():\n",
    "        nx.set_edge_attributes( grafo, {arista : {'procesada':False}})\n",
    "\n",
    "def armarGrafo( file ):\n",
    "    grafo = nx.read_gpickle(file)\n",
    "    prepararAristas(grafo)\n",
    "    return GrafoCentros( grafo )\n",
    "\n",
    "shading = { 'width': 500, 'height': 400, 'bbox':True, 'point_size': 1,\"side\": \"DoubleSide\" }"
   ]
  },
  {
   "cell_type": "code",
   "execution_count": 3,
   "metadata": {},
   "outputs": [],
   "source": [
    "MODELO = \"models/grafos/ArteryObjAN2-5-grafo.gpickle\""
   ]
  },
  {
   "cell_type": "code",
   "execution_count": 4,
   "metadata": {},
   "outputs": [
    {
     "name": "stderr",
     "output_type": "stream",
     "text": [
      "/home/migue/miniconda3/envs/graficos/lib/python3.10/site-packages/jupyter_client/session.py:718: UserWarning: Message serialization failed with:\n",
      "Out of range float values are not JSON compliant\n",
      "Supporting this message is deprecated in jupyter-client 7, please make sure your message is JSON-compliant\n",
      "  content = self.pack(content)\n"
     ]
    },
    {
     "data": {
      "application/vnd.jupyter.widget-view+json": {
       "model_id": "579d34aa295b47c29ff56f19343cd1c1",
       "version_major": 2,
       "version_minor": 0
      },
      "text/plain": [
       "Renderer(camera=PerspectiveCamera(children=(DirectionalLight(color='white', intensity=0.6, position=(0.0, 0.0,…"
      ]
     },
     "metadata": {},
     "output_type": "display_data"
    }
   ],
   "source": [
    "GC = armarGrafo(MODELO)\n",
    "\n",
    "p = mp.plot(np.array([0,0,0]), return_plot=True)\n",
    "for cconexa in nx.connected_components(GC.G):\n",
    "    color = np.tile( np.random.uniform(0, 1, 3), (len(cconexa), 1))\n",
    "    vertices = [GC.G.nodes[i] for i in list(cconexa)]\n",
    "    p.add_points( np.array([ v['posicion'].toNumpy() for v in vertices]), c=color, shading={'point_size':4})\n",
    "\n",
    "for arista in GC.G.edges:\n",
    "    p.add_lines( GC.G.nodes[arista[0]]['posicion'].toNumpy(),GC.G.nodes[arista[1]]['posicion'].toNumpy())#, c=np.array([0,0,1]))"
   ]
  },
  {
   "cell_type": "code",
   "execution_count": 5,
   "metadata": {},
   "outputs": [
    {
     "data": {
      "application/vnd.jupyter.widget-view+json": {
       "model_id": "3387c4f5417647c2aca3611a16f62766",
       "version_major": 2,
       "version_minor": 0
      },
      "text/plain": [
       "Renderer(camera=PerspectiveCamera(aspect=1.25, children=(DirectionalLight(color='white', intensity=0.6, positi…"
      ]
     },
     "metadata": {},
     "output_type": "display_data"
    },
    {
     "data": {
      "text/plain": [
       "1"
      ]
     },
     "execution_count": 5,
     "metadata": {},
     "output_type": "execute_result"
    }
   ],
   "source": [
    "GC.tile()\n",
    "GC.subdivide(2)\n",
    "p = mp.plot( GC.getVertices(), GC.getCaras(), c=np.array([0.7, 0.0, 0.0]), shading=shading, return_plot=True)\n",
    "p.add_points( GC.getVertices(), shading=shading)"
   ]
  },
  {
   "cell_type": "code",
   "execution_count": 9,
   "metadata": {},
   "outputs": [
    {
     "ename": "KeyError",
     "evalue": "77",
     "output_type": "error",
     "traceback": [
      "\u001b[0;31m---------------------------------------------------------------------------\u001b[0m",
      "\u001b[0;31mKeyError\u001b[0m                                  Traceback (most recent call last)",
      "\u001b[1;32m/home/migue/Documents/Modelador_Grafos/modelos_Intra.ipynb Cell 6\u001b[0m in \u001b[0;36m<cell line: 2>\u001b[0;34m()\u001b[0m\n\u001b[1;32m      <a href='vscode-notebook-cell:/home/migue/Documents/Modelador_Grafos/modelos_Intra.ipynb#ch0000005?line=0'>1</a>\u001b[0m GC \u001b[39m=\u001b[39m armarGrafo(MODELO)\n\u001b[0;32m----> <a href='vscode-notebook-cell:/home/migue/Documents/Modelador_Grafos/modelos_Intra.ipynb#ch0000005?line=1'>2</a>\u001b[0m GC\u001b[39m.\u001b[39;49mresamplear()\n\u001b[1;32m      <a href='vscode-notebook-cell:/home/migue/Documents/Modelador_Grafos/modelos_Intra.ipynb#ch0000005?line=3'>4</a>\u001b[0m p \u001b[39m=\u001b[39m mp\u001b[39m.\u001b[39mplot(np\u001b[39m.\u001b[39marray([\u001b[39m0\u001b[39m,\u001b[39m0\u001b[39m,\u001b[39m0\u001b[39m]), return_plot\u001b[39m=\u001b[39m\u001b[39mTrue\u001b[39;00m)\n\u001b[1;32m      <a href='vscode-notebook-cell:/home/migue/Documents/Modelador_Grafos/modelos_Intra.ipynb#ch0000005?line=4'>5</a>\u001b[0m \u001b[39mfor\u001b[39;00m cconexa \u001b[39min\u001b[39;00m nx\u001b[39m.\u001b[39mconnected_components(GC\u001b[39m.\u001b[39mG):\n",
      "File \u001b[0;32m~/Documents/Modelador_Grafos/src/mesh_gen/modelador.py:241\u001b[0m, in \u001b[0;36mGrafoCentros.resamplear\u001b[0;34m(self, alpha, beta, w)\u001b[0m\n\u001b[1;32m    239\u001b[0m \u001b[39mdef\u001b[39;00m \u001b[39mresamplear\u001b[39m( \u001b[39mself\u001b[39m, alpha\u001b[39m=\u001b[39m\u001b[39m0.1\u001b[39m, beta\u001b[39m=\u001b[39m\u001b[39m0.1\u001b[39m, w\u001b[39m=\u001b[39m\u001b[39m0.01\u001b[39m ):\n\u001b[0;32m--> 241\u001b[0m     \u001b[39mself\u001b[39;49m\u001b[39m.\u001b[39;49mresamplearGrafo( \u001b[39mself\u001b[39;49m\u001b[39m.\u001b[39;49melegirNodoGrado( \u001b[39m1\u001b[39;49m ), \u001b[39mNone\u001b[39;49;00m, {}, alpha, beta, w )\n\u001b[1;32m    242\u001b[0m     \u001b[39mself\u001b[39m\u001b[39m.\u001b[39mG \u001b[39m=\u001b[39m nx\u001b[39m.\u001b[39mconvert_node_labels_to_integers( \u001b[39mself\u001b[39m\u001b[39m.\u001b[39mG )\n",
      "File \u001b[0;32m~/Documents/Modelador_Grafos/src/mesh_gen/modelador.py:254\u001b[0m, in \u001b[0;36mGrafoCentros.resamplearGrafo\u001b[0;34m(self, nodoInicial, nodoProcedente, nodosJointVisitados, alpha, beta, w)\u001b[0m\n\u001b[1;32m    252\u001b[0m \u001b[39mif\u001b[39;00m \u001b[39mnot\u001b[39;00m proxNodoInicial \u001b[39min\u001b[39;00m nodosJointVisitados \u001b[39mand\u001b[39;00m \u001b[39mself\u001b[39m\u001b[39m.\u001b[39mgradoNodo(proxNodoInicial) \u001b[39m!=\u001b[39m \u001b[39m1\u001b[39m:\n\u001b[1;32m    253\u001b[0m     nodosJointVisitados[proxNodoInicial] \u001b[39m=\u001b[39m \u001b[39mTrue\u001b[39;00m\n\u001b[0;32m--> 254\u001b[0m     \u001b[39mself\u001b[39;49m\u001b[39m.\u001b[39;49mresamplearGrafo( proxNodoInicial, ultimoNodoNuevo, nodosJointVisitados, alpha, beta, w )\n",
      "File \u001b[0;32m~/Documents/Modelador_Grafos/src/mesh_gen/modelador.py:254\u001b[0m, in \u001b[0;36mGrafoCentros.resamplearGrafo\u001b[0;34m(self, nodoInicial, nodoProcedente, nodosJointVisitados, alpha, beta, w)\u001b[0m\n\u001b[1;32m    252\u001b[0m \u001b[39mif\u001b[39;00m \u001b[39mnot\u001b[39;00m proxNodoInicial \u001b[39min\u001b[39;00m nodosJointVisitados \u001b[39mand\u001b[39;00m \u001b[39mself\u001b[39m\u001b[39m.\u001b[39mgradoNodo(proxNodoInicial) \u001b[39m!=\u001b[39m \u001b[39m1\u001b[39m:\n\u001b[1;32m    253\u001b[0m     nodosJointVisitados[proxNodoInicial] \u001b[39m=\u001b[39m \u001b[39mTrue\u001b[39;00m\n\u001b[0;32m--> 254\u001b[0m     \u001b[39mself\u001b[39;49m\u001b[39m.\u001b[39;49mresamplearGrafo( proxNodoInicial, ultimoNodoNuevo, nodosJointVisitados, alpha, beta, w )\n",
      "File \u001b[0;32m~/Documents/Modelador_Grafos/src/mesh_gen/modelador.py:248\u001b[0m, in \u001b[0;36mGrafoCentros.resamplearGrafo\u001b[0;34m(self, nodoInicial, nodoProcedente, nodosJointVisitados, alpha, beta, w)\u001b[0m\n\u001b[1;32m    245\u001b[0m ramas \u001b[39m=\u001b[39m \u001b[39mself\u001b[39m\u001b[39m.\u001b[39mobtenerRamasDesdeNodo( nodoInicial, nodoProcedente )\n\u001b[1;32m    247\u001b[0m \u001b[39mfor\u001b[39;00m rama \u001b[39min\u001b[39;00m ramas:\n\u001b[0;32m--> 248\u001b[0m     ultimoNodoNuevo \u001b[39m=\u001b[39m \u001b[39mself\u001b[39;49m\u001b[39m.\u001b[39;49mresamplearRama( rama, alpha, beta, w ) \n\u001b[1;32m    250\u001b[0m     proxNodoInicial \u001b[39m=\u001b[39m rama[\u001b[39m-\u001b[39m\u001b[39m1\u001b[39m]\n\u001b[1;32m    252\u001b[0m     \u001b[39mif\u001b[39;00m \u001b[39mnot\u001b[39;00m proxNodoInicial \u001b[39min\u001b[39;00m nodosJointVisitados \u001b[39mand\u001b[39;00m \u001b[39mself\u001b[39m\u001b[39m.\u001b[39mgradoNodo(proxNodoInicial) \u001b[39m!=\u001b[39m \u001b[39m1\u001b[39m:\n",
      "File \u001b[0;32m~/Documents/Modelador_Grafos/src/mesh_gen/modelador.py:258\u001b[0m, in \u001b[0;36mGrafoCentros.resamplearRama\u001b[0;34m(self, listaNodos, alpha, beta, w)\u001b[0m\n\u001b[1;32m    256\u001b[0m \u001b[39mdef\u001b[39;00m \u001b[39mresamplearRama\u001b[39m( \u001b[39mself\u001b[39m, listaNodos, alpha, beta, w ):\n\u001b[0;32m--> 258\u001b[0m     posicionesNodos \u001b[39m=\u001b[39m [ \u001b[39mself\u001b[39m\u001b[39m.\u001b[39mposicionNodo( nodo ) \u001b[39mfor\u001b[39;00m nodo \u001b[39min\u001b[39;00m listaNodos ]\n\u001b[1;32m    259\u001b[0m     curvaPosicionesInterpolada \u001b[39m=\u001b[39m Interpolada(  posicionesNodos )\u001b[39m.\u001b[39mreparametrizar( \u001b[39mlambda\u001b[39;00m x : np\u001b[39m.\u001b[39mclip(x, \u001b[39m0\u001b[39m, \u001b[39m1\u001b[39m))\n\u001b[1;32m    261\u001b[0m     radioNodos \u001b[39m=\u001b[39m [ \u001b[39mself\u001b[39m\u001b[39m.\u001b[39mradioNodo( nodo ) \u001b[39mfor\u001b[39;00m nodo \u001b[39min\u001b[39;00m listaNodos ]\n",
      "File \u001b[0;32m~/Documents/Modelador_Grafos/src/mesh_gen/modelador.py:258\u001b[0m, in \u001b[0;36m<listcomp>\u001b[0;34m(.0)\u001b[0m\n\u001b[1;32m    256\u001b[0m \u001b[39mdef\u001b[39;00m \u001b[39mresamplearRama\u001b[39m( \u001b[39mself\u001b[39m, listaNodos, alpha, beta, w ):\n\u001b[0;32m--> 258\u001b[0m     posicionesNodos \u001b[39m=\u001b[39m [ \u001b[39mself\u001b[39;49m\u001b[39m.\u001b[39;49mposicionNodo( nodo ) \u001b[39mfor\u001b[39;00m nodo \u001b[39min\u001b[39;00m listaNodos ]\n\u001b[1;32m    259\u001b[0m     curvaPosicionesInterpolada \u001b[39m=\u001b[39m Interpolada(  posicionesNodos )\u001b[39m.\u001b[39mreparametrizar( \u001b[39mlambda\u001b[39;00m x : np\u001b[39m.\u001b[39mclip(x, \u001b[39m0\u001b[39m, \u001b[39m1\u001b[39m))\n\u001b[1;32m    261\u001b[0m     radioNodos \u001b[39m=\u001b[39m [ \u001b[39mself\u001b[39m\u001b[39m.\u001b[39mradioNodo( nodo ) \u001b[39mfor\u001b[39;00m nodo \u001b[39min\u001b[39;00m listaNodos ]\n",
      "File \u001b[0;32m~/Documents/Modelador_Grafos/src/mesh_gen/modelador.py:167\u001b[0m, in \u001b[0;36mGrafoCentros.posicionNodo\u001b[0;34m(self, nodo)\u001b[0m\n\u001b[1;32m    165\u001b[0m \u001b[39mdef\u001b[39;00m \u001b[39mposicionNodo\u001b[39m( \u001b[39mself\u001b[39m, nodo ):\n\u001b[1;32m    166\u001b[0m     \u001b[39m# cuando arme el nodo pongo la posicion como un Vec3\u001b[39;00m\n\u001b[0;32m--> 167\u001b[0m     posicion \u001b[39m=\u001b[39m nx\u001b[39m.\u001b[39;49mget_node_attributes( \u001b[39mself\u001b[39;49m\u001b[39m.\u001b[39;49mG, \u001b[39m'\u001b[39;49m\u001b[39mposicion\u001b[39;49m\u001b[39m'\u001b[39;49m )[nodo]\n\u001b[1;32m    168\u001b[0m     \u001b[39mif\u001b[39;00m \u001b[39mnot\u001b[39;00m \u001b[39misinstance\u001b[39m(posicion, Vec3):\n\u001b[1;32m    169\u001b[0m         nx\u001b[39m.\u001b[39mset_node_attributes( \u001b[39mself\u001b[39m\u001b[39m.\u001b[39mG, {nodo: Vec3(\u001b[39m*\u001b[39mposicion)}, \u001b[39m'\u001b[39m\u001b[39mposicion\u001b[39m\u001b[39m'\u001b[39m)\n",
      "\u001b[0;31mKeyError\u001b[0m: 77"
     ]
    }
   ],
   "source": [
    "GC = armarGrafo(MODELO)\n",
    "GC.resamplear()\n",
    "\n",
    "p = mp.plot(np.array([0,0,0]), return_plot=True)\n",
    "for cconexa in nx.connected_components(GC.G):\n",
    "    color = np.tile( np.random.uniform(0, 1, 3), (len(cconexa), 1))\n",
    "    vertices = [GC.G.nodes[i] for i in list(cconexa)]\n",
    "    p.add_points( np.array([ v['posicion'].toNumpy() for v in vertices]), c=color, shading={'point_size':4})\n",
    "\n",
    "for arista in GC.G.edges:\n",
    "    p.add_lines( GC.G.nodes[arista[0]]['posicion'].toNumpy(),GC.G.nodes[arista[1]]['posicion'].toNumpy())#, c=np.array([0,0,1]))"
   ]
  },
  {
   "cell_type": "code",
   "execution_count": 33,
   "metadata": {},
   "outputs": [
    {
     "data": {
      "application/vnd.jupyter.widget-view+json": {
       "model_id": "af72f22d64444b89aeb39670ea670871",
       "version_major": 2,
       "version_minor": 0
      },
      "text/plain": [
       "Renderer(camera=PerspectiveCamera(aspect=1.25, children=(DirectionalLight(color='white', intensity=0.6, positi…"
      ]
     },
     "metadata": {},
     "output_type": "display_data"
    },
    {
     "data": {
      "text/plain": [
       "1"
      ]
     },
     "execution_count": 33,
     "metadata": {},
     "output_type": "execute_result"
    }
   ],
   "source": [
    "GC.tile()\n",
    "GC.subdivide(2)\n",
    "p = mp.plot( GC.getVertices(), GC.getCaras(), c=np.array([0.7, 0.0, 0.0]), shading=shading, return_plot=True)\n",
    "p.add_points( GC.getVertices(), shading=shading)"
   ]
  },
  {
   "cell_type": "code",
   "execution_count": null,
   "metadata": {},
   "outputs": [],
   "source": [
    "GC.exportar( \"resultados/grafos/17.off\" )"
   ]
  }
 ],
 "metadata": {
  "kernelspec": {
   "display_name": "Python 3 (ipykernel)",
   "language": "python",
   "name": "python3"
  },
  "language_info": {
   "codemirror_mode": {
    "name": "ipython",
    "version": 3
   },
   "file_extension": ".py",
   "mimetype": "text/x-python",
   "name": "python",
   "nbconvert_exporter": "python",
   "pygments_lexer": "ipython3",
   "version": "3.10.4"
  },
  "vscode": {
   "interpreter": {
    "hash": "eb39dedddd96e042909f6d2defbd179a23d2732cde05673458392b8d1ef182a1"
   }
  }
 },
 "nbformat": 4,
 "nbformat_minor": 2
}
