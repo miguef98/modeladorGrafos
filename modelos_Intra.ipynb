{
 "cells": [
  {
   "cell_type": "code",
   "execution_count": 4,
   "metadata": {},
   "outputs": [],
   "source": [
    "import numpy as np\n",
    "import meshplot as mp\n",
    "import networkx as nx\n",
    "import os\n",
    "import sys\n",
    "\n",
    "from src.mesh_gen import vec3\n",
    "sys.modules['vec3'] = vec3\n",
    "from vec3 import Vec3\n",
    "from src.mesh_gen.modelador import GrafoCentros"
   ]
  },
  {
   "cell_type": "code",
   "execution_count": 2,
   "metadata": {},
   "outputs": [],
   "source": [
    "def prepararAristas( grafo ):\n",
    "    for arista in grafo.edges():\n",
    "        nx.set_edge_attributes( grafo, {arista : {'procesada':False}})\n",
    "\n",
    "def armarGrafo( file ):\n",
    "    grafo = nx.read_gpickle(file)\n",
    "    prepararAristas(grafo)\n",
    "    return GrafoCentros( grafo )\n",
    "\n",
    "shading = { 'width': 500, 'height': 400, 'bbox':True, 'point_size': 0.5,\"side\": \"DoubleSide\" }"
   ]
  },
  {
   "cell_type": "code",
   "execution_count": 19,
   "metadata": {},
   "outputs": [],
   "source": [
    "MODELO = \"models/grafos/ArteryObjAN1-19-grafo.gpickle\""
   ]
  },
  {
   "cell_type": "code",
   "execution_count": 21,
   "metadata": {},
   "outputs": [
    {
     "data": {
      "application/vnd.jupyter.widget-view+json": {
       "model_id": "0ce3163fd7fe48988b3ffc136954d741",
       "version_major": 2,
       "version_minor": 0
      },
      "text/plain": [
       "Renderer(camera=PerspectiveCamera(children=(DirectionalLight(color='white', intensity=0.6, position=(0.0, 0.0,…"
      ]
     },
     "metadata": {},
     "output_type": "display_data"
    }
   ],
   "source": [
    "GC = armarGrafo(MODELO)\n",
    "GC.resamplear()\n",
    "\n",
    "p = mp.plot(np.array([0,0,0]), return_plot=True)\n",
    "for cconexa in nx.connected_components(GC.G):\n",
    "    color = np.tile( np.random.uniform(0, 1, 3), (len(cconexa), 1))\n",
    "    vertices = [GC.G.nodes[i] for i in list(cconexa)]\n",
    "    p.add_points( np.array([ v['posicion'].toNumpy() for v in vertices]), c=color, shading={'point_size':2})\n",
    "\n",
    "for arista in GC.G.edges:\n",
    "    p.add_lines( GC.G.nodes[arista[0]]['posicion'].toNumpy(),GC.G.nodes[arista[1]]['posicion'].toNumpy())#, c=np.array([0,0,1]))"
   ]
  },
  {
   "cell_type": "code",
   "execution_count": 22,
   "metadata": {},
   "outputs": [
    {
     "data": {
      "application/vnd.jupyter.widget-view+json": {
       "model_id": "aaeb73a001e14596b44501c7f2c7287d",
       "version_major": 2,
       "version_minor": 0
      },
      "text/plain": [
       "Renderer(camera=PerspectiveCamera(aspect=1.25, children=(DirectionalLight(color='white', intensity=0.6, positi…"
      ]
     },
     "metadata": {},
     "output_type": "display_data"
    },
    {
     "data": {
      "text/plain": [
       "1"
      ]
     },
     "execution_count": 22,
     "metadata": {},
     "output_type": "execute_result"
    }
   ],
   "source": [
    "GC.tile()\n",
    "GC.subdivide(2)\n",
    "p = mp.plot( GC.getVertices(), GC.getCaras(), c=np.array([0.7, 0.0, 0.0]), shading=shading, return_plot=True)\n",
    "p.add_points( GC.getVertices(), shading=shading)"
   ]
  },
  {
   "cell_type": "code",
   "execution_count": 6,
   "metadata": {},
   "outputs": [],
   "source": [
    "for dirpath, dnames, fnames in os.walk(\"models/grafos/\"):\n",
    "    for f in fnames:\n",
    "        GC = armarGrafo(os.path.join(dirpath, f))\n",
    "        GC.resamplear()\n",
    "        GC.tile()\n",
    "        GC.subdivide(2)\n",
    "        GC.exportar( \"../Laplacian/generadas/\" + f[:-3] + 'off' )"
   ]
  },
  {
   "cell_type": "code",
   "execution_count": null,
   "metadata": {},
   "outputs": [],
   "source": [
    "GC.exportar( \"resultados/grafos/17.off\" )"
   ]
  }
 ],
 "metadata": {
  "kernelspec": {
   "display_name": "Python 3 (ipykernel)",
   "language": "python",
   "name": "python3"
  },
  "language_info": {
   "codemirror_mode": {
    "name": "ipython",
    "version": 3
   },
   "file_extension": ".py",
   "mimetype": "text/x-python",
   "name": "python",
   "nbconvert_exporter": "python",
   "pygments_lexer": "ipython3",
   "version": "3.9.12"
  },
  "vscode": {
   "interpreter": {
    "hash": "eb39dedddd96e042909f6d2defbd179a23d2732cde05673458392b8d1ef182a1"
   }
  }
 },
 "nbformat": 4,
 "nbformat_minor": 2
}
