{
 "cells": [
  {
   "cell_type": "code",
   "execution_count": 1,
   "metadata": {},
   "outputs": [],
   "source": [
    "import numpy as np\n",
    "import meshplot as mp\n",
    "import networkx as nx\n",
    "import sys\n",
    "\n",
    "from src.mesh_gen import vec3\n",
    "sys.modules['vec3'] = vec3\n",
    "from vec3 import Vec3\n",
    "from src.mesh_gen.modelador import GrafoCentros"
   ]
  },
  {
   "cell_type": "code",
   "execution_count": 2,
   "metadata": {},
   "outputs": [],
   "source": [
    "def prepararAristas( grafo ):\n",
    "    for arista in grafo.edges():\n",
    "        nx.set_edge_attributes( grafo, {arista : {'procesada':False}})\n",
    "\n",
    "def armarGrafo( file ):\n",
    "    grafo = nx.read_gpickle(file)\n",
    "    prepararAristas(grafo)\n",
    "    return GrafoCentros( grafo )\n",
    "\n",
    "shading = { 'width': 500, 'height': 400, 'bbox':True, 'point_size': 1,\"side\": \"DoubleSide\" }"
   ]
  },
  {
   "cell_type": "code",
   "execution_count": 3,
   "metadata": {},
   "outputs": [],
   "source": [
    "MODELO = \"models/grafos/ArteryObjAN2-5-grafo.gpickle\""
   ]
  },
  {
   "cell_type": "code",
   "execution_count": null,
   "metadata": {},
   "outputs": [],
   "source": [
    "GC = armarGrafo(MODELO)\n",
    "\n",
    "p = mp.plot(np.array([0,0,0]), return_plot=True)\n",
    "for cconexa in nx.connected_components(GC.G):\n",
    "    color = np.tile( np.random.uniform(0, 1, 3), (len(cconexa), 1))\n",
    "    vertices = [GC.G.nodes[i] for i in list(cconexa)]\n",
    "    p.add_points( np.array([ v['posicion'].toNumpy() for v in vertices]), c=color, shading={'point_size':4})\n",
    "\n",
    "for arista in GC.G.edges:\n",
    "    p.add_lines( GC.G.nodes[arista[0]]['posicion'].toNumpy(),GC.G.nodes[arista[1]]['posicion'].toNumpy())#, c=np.array([0,0,1]))"
   ]
  },
  {
   "cell_type": "code",
   "execution_count": null,
   "metadata": {},
   "outputs": [],
   "source": [
    "GC.tile()\n",
    "GC.subdivide(2)\n",
    "p = mp.plot( GC.getVertices(), GC.getCaras(), c=np.array([0.7, 0.0, 0.0]), shading=shading, return_plot=True)\n",
    "p.add_points( GC.getVertices(), shading=shading)"
   ]
  },
  {
   "cell_type": "code",
   "execution_count": 4,
   "metadata": {},
   "outputs": [
    {
     "name": "stderr",
     "output_type": "stream",
     "text": [
      "/home/migue/miniconda3/envs/graficos/lib/python3.10/site-packages/jupyter_client/session.py:718: UserWarning: Message serialization failed with:\n",
      "Out of range float values are not JSON compliant\n",
      "Supporting this message is deprecated in jupyter-client 7, please make sure your message is JSON-compliant\n",
      "  content = self.pack(content)\n"
     ]
    },
    {
     "data": {
      "application/vnd.jupyter.widget-view+json": {
       "model_id": "67c2bff81ccf4264914cfc40468f5a1b",
       "version_major": 2,
       "version_minor": 0
      },
      "text/plain": [
       "Renderer(camera=PerspectiveCamera(children=(DirectionalLight(color='white', intensity=0.6, position=(0.0, 0.0,…"
      ]
     },
     "metadata": {},
     "output_type": "display_data"
    }
   ],
   "source": [
    "GC = armarGrafo(MODELO)\n",
    "GC.resamplear()\n",
    "\n",
    "p = mp.plot(np.array([0,0,0]), return_plot=True)\n",
    "for cconexa in nx.connected_components(GC.G):\n",
    "    color = np.tile( np.random.uniform(0, 1, 3), (len(cconexa), 1))\n",
    "    vertices = [GC.G.nodes[i] for i in list(cconexa)]\n",
    "    p.add_points( np.array([ v['posicion'].toNumpy() for v in vertices]), c=color, shading={'point_size':4})\n",
    "\n",
    "for arista in GC.G.edges:\n",
    "    p.add_lines( GC.G.nodes[arista[0]]['posicion'].toNumpy(),GC.G.nodes[arista[1]]['posicion'].toNumpy())#, c=np.array([0,0,1]))"
   ]
  },
  {
   "cell_type": "code",
   "execution_count": 5,
   "metadata": {},
   "outputs": [
    {
     "data": {
      "application/vnd.jupyter.widget-view+json": {
       "model_id": "53b936d7a0f5478cb8f08fac4e2502af",
       "version_major": 2,
       "version_minor": 0
      },
      "text/plain": [
       "Renderer(camera=PerspectiveCamera(aspect=1.25, children=(DirectionalLight(color='white', intensity=0.6, positi…"
      ]
     },
     "metadata": {},
     "output_type": "display_data"
    },
    {
     "data": {
      "text/plain": [
       "1"
      ]
     },
     "execution_count": 5,
     "metadata": {},
     "output_type": "execute_result"
    }
   ],
   "source": [
    "GC.tile()\n",
    "GC.subdivide(2)\n",
    "p = mp.plot( GC.getVertices(), GC.getCaras(), c=np.array([0.7, 0.0, 0.0]), shading=shading, return_plot=True)\n",
    "p.add_points( GC.getVertices(), shading=shading)"
   ]
  },
  {
   "cell_type": "code",
   "execution_count": null,
   "metadata": {},
   "outputs": [],
   "source": [
    "GC.exportar( \"resultados/grafos/17.off\" )"
   ]
  }
 ],
 "metadata": {
  "kernelspec": {
   "display_name": "Python 3 (ipykernel)",
   "language": "python",
   "name": "python3"
  },
  "language_info": {
   "codemirror_mode": {
    "name": "ipython",
    "version": 3
   },
   "file_extension": ".py",
   "mimetype": "text/x-python",
   "name": "python",
   "nbconvert_exporter": "python",
   "pygments_lexer": "ipython3",
   "version": "3.10.4"
  },
  "vscode": {
   "interpreter": {
    "hash": "eb39dedddd96e042909f6d2defbd179a23d2732cde05673458392b8d1ef182a1"
   }
  }
 },
 "nbformat": 4,
 "nbformat_minor": 2
}
